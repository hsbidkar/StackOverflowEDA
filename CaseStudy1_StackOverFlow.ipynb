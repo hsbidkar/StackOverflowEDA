{
  "nbformat": 4,
  "nbformat_minor": 0,
  "metadata": {
    "colab": {
      "name": "CaseStudy1_StackOverFlow.ipynb",
      "provenance": [],
      "collapsed_sections": [],
      "include_colab_link": true
    },
    "kernelspec": {
      "name": "python3",
      "display_name": "Python 3"
    }
  },
  "cells": [
    {
      "cell_type": "markdown",
      "metadata": {
        "id": "view-in-github",
        "colab_type": "text"
      },
      "source": [
        "<a href=\"https://colab.research.google.com/github/hsbidkar/StackOverflowEDA/blob/main/CaseStudy1_StackOverFlow.ipynb\" target=\"_parent\"><img src=\"https://colab.research.google.com/assets/colab-badge.svg\" alt=\"Open In Colab\"/></a>"
      ]
    },
    {
      "cell_type": "markdown",
      "metadata": {
        "id": "9YPuY1IPBNcW"
      },
      "source": [
        "# ***CaseStudy1***\n",
        "## *EDA of StackOverFlow Question-Answernaire*\n",
        "Google CoLab is being used here to do the EDA and links for the dataset are as below:\n",
        "\n",
        "*Questions.csv: Different questions asked by the users*\n",
        "\n",
        "https://stack-overflow-casestudy-datasets.s3.amazonaws.com/Questions.csv\n",
        "\n",
        "*Answers.csv: All the answers that are given to the aforementioned questions*\n",
        "\n",
        "https://stack-overflow-casestudy-datasets.s3.amazonaws.com/Answers.csv\n",
        "\n",
        "*Tags.csv: The various tags of the questions that are asked*\n",
        "\n",
        "https://stack-overflow-casestudy-datasets.s3.amazonaws.com/Tags.csv\n",
        "\n",
        "*Users.csv: All the users that were present between the mentioned duration*\n",
        "\n",
        "https://stack-overflow-casestudy-datasets.s3.amazonaws.com/Users.csv"
      ]
    },
    {
      "cell_type": "code",
      "metadata": {
        "id": "IXLXHBjADul8"
      },
      "source": [
        "import numpy as np\n",
        "import pandas as pd\n",
        "import seaborn as sb\n",
        "import matplotlib.pyplot as plt\n",
        "%matplotlib inline"
      ],
      "execution_count": null,
      "outputs": []
    },
    {
      "cell_type": "markdown",
      "metadata": {
        "id": "7zsYMFA4y0Kz"
      },
      "source": [
        "### Start loading the data into DF and begin the analysis.\n"
      ]
    },
    {
      "cell_type": "markdown",
      "metadata": {
        "id": "W5gzrnT14U-l"
      },
      "source": [
        "#### *We start with Questions.csv first*"
      ]
    },
    {
      "cell_type": "code",
      "metadata": {
        "colab": {
          "base_uri": "https://localhost:8080/",
          "height": 197
        },
        "id": "T2lpfdj4FVDk",
        "outputId": "9af626be-8f61-40fb-c4fe-4f9738cd47fc"
      },
      "source": [
        "qs=pd.read_csv(\"https://stack-overflow-casestudy-datasets.s3.amazonaws.com/Questions.csv\",encoding='latin-1')\n",
        "qs.head()"
      ],
      "execution_count": null,
      "outputs": [
        {
          "output_type": "execute_result",
          "data": {
            "text/html": [
              "<div>\n",
              "<style scoped>\n",
              "    .dataframe tbody tr th:only-of-type {\n",
              "        vertical-align: middle;\n",
              "    }\n",
              "\n",
              "    .dataframe tbody tr th {\n",
              "        vertical-align: top;\n",
              "    }\n",
              "\n",
              "    .dataframe thead th {\n",
              "        text-align: right;\n",
              "    }\n",
              "</style>\n",
              "<table border=\"1\" class=\"dataframe\">\n",
              "  <thead>\n",
              "    <tr style=\"text-align: right;\">\n",
              "      <th></th>\n",
              "      <th>Id</th>\n",
              "      <th>OwnerUserId</th>\n",
              "      <th>CreationDate</th>\n",
              "      <th>ClosedDate</th>\n",
              "      <th>Score</th>\n",
              "      <th>Title</th>\n",
              "      <th>Body</th>\n",
              "    </tr>\n",
              "  </thead>\n",
              "  <tbody>\n",
              "    <tr>\n",
              "      <th>0</th>\n",
              "      <td>80</td>\n",
              "      <td>26.0</td>\n",
              "      <td>2008-08-01T13:57:07Z</td>\n",
              "      <td>NaN</td>\n",
              "      <td>26</td>\n",
              "      <td>SQLStatement.execute() - multiple queries in o...</td>\n",
              "      <td>&lt;p&gt;I've written a database generation script i...</td>\n",
              "    </tr>\n",
              "    <tr>\n",
              "      <th>1</th>\n",
              "      <td>90</td>\n",
              "      <td>58.0</td>\n",
              "      <td>2008-08-01T14:41:24Z</td>\n",
              "      <td>2012-12-26T03:45:49Z</td>\n",
              "      <td>144</td>\n",
              "      <td>Good branching and merging tutorials for Torto...</td>\n",
              "      <td>&lt;p&gt;Are there any really good tutorials explain...</td>\n",
              "    </tr>\n",
              "    <tr>\n",
              "      <th>2</th>\n",
              "      <td>120</td>\n",
              "      <td>83.0</td>\n",
              "      <td>2008-08-01T15:50:08Z</td>\n",
              "      <td>NaN</td>\n",
              "      <td>21</td>\n",
              "      <td>ASP.NET Site Maps</td>\n",
              "      <td>&lt;p&gt;Has anyone got experience creating &lt;strong&gt;...</td>\n",
              "    </tr>\n",
              "    <tr>\n",
              "      <th>3</th>\n",
              "      <td>180</td>\n",
              "      <td>2089740.0</td>\n",
              "      <td>2008-08-01T18:42:19Z</td>\n",
              "      <td>NaN</td>\n",
              "      <td>53</td>\n",
              "      <td>Function for creating color wheels</td>\n",
              "      <td>&lt;p&gt;This is something I've pseudo-solved many t...</td>\n",
              "    </tr>\n",
              "    <tr>\n",
              "      <th>4</th>\n",
              "      <td>260</td>\n",
              "      <td>91.0</td>\n",
              "      <td>2008-08-01T23:22:08Z</td>\n",
              "      <td>NaN</td>\n",
              "      <td>49</td>\n",
              "      <td>Adding scripting functionality to .NET applica...</td>\n",
              "      <td>&lt;p&gt;I have a little game written in C#. It uses...</td>\n",
              "    </tr>\n",
              "  </tbody>\n",
              "</table>\n",
              "</div>"
            ],
            "text/plain": [
              "    Id  ...                                               Body\n",
              "0   80  ...  <p>I've written a database generation script i...\n",
              "1   90  ...  <p>Are there any really good tutorials explain...\n",
              "2  120  ...  <p>Has anyone got experience creating <strong>...\n",
              "3  180  ...  <p>This is something I've pseudo-solved many t...\n",
              "4  260  ...  <p>I have a little game written in C#. It uses...\n",
              "\n",
              "[5 rows x 7 columns]"
            ]
          },
          "metadata": {
            "tags": []
          },
          "execution_count": 2
        }
      ]
    },
    {
      "cell_type": "code",
      "metadata": {
        "colab": {
          "base_uri": "https://localhost:8080/"
        },
        "id": "uPCwhoqeM-jR",
        "outputId": "6bff895e-896a-4a58-c01d-2f08c4b0ebb7"
      },
      "source": [
        "qs.dtypes"
      ],
      "execution_count": null,
      "outputs": [
        {
          "output_type": "execute_result",
          "data": {
            "text/plain": [
              "Id                int64\n",
              "OwnerUserId     float64\n",
              "CreationDate     object\n",
              "ClosedDate       object\n",
              "Score             int64\n",
              "Title            object\n",
              "Body             object\n",
              "dtype: object"
            ]
          },
          "metadata": {
            "tags": []
          },
          "execution_count": 3
        }
      ]
    },
    {
      "cell_type": "code",
      "metadata": {
        "colab": {
          "base_uri": "https://localhost:8080/",
          "height": 287
        },
        "id": "FEHtgv2lxG2t",
        "outputId": "e0005936-5242-4d1c-f980-e698a2e80fa8"
      },
      "source": [
        "qs.describe()"
      ],
      "execution_count": null,
      "outputs": [
        {
          "output_type": "execute_result",
          "data": {
            "text/html": [
              "<div>\n",
              "<style scoped>\n",
              "    .dataframe tbody tr th:only-of-type {\n",
              "        vertical-align: middle;\n",
              "    }\n",
              "\n",
              "    .dataframe tbody tr th {\n",
              "        vertical-align: top;\n",
              "    }\n",
              "\n",
              "    .dataframe thead th {\n",
              "        text-align: right;\n",
              "    }\n",
              "</style>\n",
              "<table border=\"1\" class=\"dataframe\">\n",
              "  <thead>\n",
              "    <tr style=\"text-align: right;\">\n",
              "      <th></th>\n",
              "      <th>Id</th>\n",
              "      <th>OwnerUserId</th>\n",
              "      <th>Score</th>\n",
              "    </tr>\n",
              "  </thead>\n",
              "  <tbody>\n",
              "    <tr>\n",
              "      <th>count</th>\n",
              "      <td>1.264216e+06</td>\n",
              "      <td>1.249762e+06</td>\n",
              "      <td>1.264216e+06</td>\n",
              "    </tr>\n",
              "    <tr>\n",
              "      <th>mean</th>\n",
              "      <td>2.132745e+07</td>\n",
              "      <td>2.155177e+06</td>\n",
              "      <td>1.781537e+00</td>\n",
              "    </tr>\n",
              "    <tr>\n",
              "      <th>std</th>\n",
              "      <td>1.151445e+07</td>\n",
              "      <td>1.801265e+06</td>\n",
              "      <td>1.366389e+01</td>\n",
              "    </tr>\n",
              "    <tr>\n",
              "      <th>min</th>\n",
              "      <td>8.000000e+01</td>\n",
              "      <td>1.000000e+00</td>\n",
              "      <td>-7.300000e+01</td>\n",
              "    </tr>\n",
              "    <tr>\n",
              "      <th>25%</th>\n",
              "      <td>1.142598e+07</td>\n",
              "      <td>6.589110e+05</td>\n",
              "      <td>0.000000e+00</td>\n",
              "    </tr>\n",
              "    <tr>\n",
              "      <th>50%</th>\n",
              "      <td>2.172542e+07</td>\n",
              "      <td>1.611830e+06</td>\n",
              "      <td>0.000000e+00</td>\n",
              "    </tr>\n",
              "    <tr>\n",
              "      <th>75%</th>\n",
              "      <td>3.154542e+07</td>\n",
              "      <td>3.353792e+06</td>\n",
              "      <td>1.000000e+00</td>\n",
              "    </tr>\n",
              "    <tr>\n",
              "      <th>max</th>\n",
              "      <td>4.014338e+07</td>\n",
              "      <td>7.046594e+06</td>\n",
              "      <td>5.190000e+03</td>\n",
              "    </tr>\n",
              "  </tbody>\n",
              "</table>\n",
              "</div>"
            ],
            "text/plain": [
              "                 Id   OwnerUserId         Score\n",
              "count  1.264216e+06  1.249762e+06  1.264216e+06\n",
              "mean   2.132745e+07  2.155177e+06  1.781537e+00\n",
              "std    1.151445e+07  1.801265e+06  1.366389e+01\n",
              "min    8.000000e+01  1.000000e+00 -7.300000e+01\n",
              "25%    1.142598e+07  6.589110e+05  0.000000e+00\n",
              "50%    2.172542e+07  1.611830e+06  0.000000e+00\n",
              "75%    3.154542e+07  3.353792e+06  1.000000e+00\n",
              "max    4.014338e+07  7.046594e+06  5.190000e+03"
            ]
          },
          "metadata": {
            "tags": []
          },
          "execution_count": 4
        }
      ]
    },
    {
      "cell_type": "markdown",
      "metadata": {
        "id": "Wjyb8i8EoKir"
      },
      "source": [
        " *Above data shows that data has OwnerUserId as float and this need conversion to int but when using qs.OwnerUserId.astype(int) we see that it throws error as data has NaN in it, so we convert such values as 0 and then convert it to int*"
      ]
    },
    {
      "cell_type": "code",
      "metadata": {
        "colab": {
          "base_uri": "https://localhost:8080/",
          "height": 406
        },
        "id": "yrimUBIeNwiX",
        "outputId": "31bfc980-edd3-4273-b641-d1c7ff7bc868"
      },
      "source": [
        "qs[qs.OwnerUserId.isnull()==True]"
      ],
      "execution_count": null,
      "outputs": [
        {
          "output_type": "execute_result",
          "data": {
            "text/html": [
              "<div>\n",
              "<style scoped>\n",
              "    .dataframe tbody tr th:only-of-type {\n",
              "        vertical-align: middle;\n",
              "    }\n",
              "\n",
              "    .dataframe tbody tr th {\n",
              "        vertical-align: top;\n",
              "    }\n",
              "\n",
              "    .dataframe thead th {\n",
              "        text-align: right;\n",
              "    }\n",
              "</style>\n",
              "<table border=\"1\" class=\"dataframe\">\n",
              "  <thead>\n",
              "    <tr style=\"text-align: right;\">\n",
              "      <th></th>\n",
              "      <th>Id</th>\n",
              "      <th>OwnerUserId</th>\n",
              "      <th>CreationDate</th>\n",
              "      <th>ClosedDate</th>\n",
              "      <th>Score</th>\n",
              "      <th>Title</th>\n",
              "      <th>Body</th>\n",
              "    </tr>\n",
              "  </thead>\n",
              "  <tbody>\n",
              "    <tr>\n",
              "      <th>47</th>\n",
              "      <td>4170</td>\n",
              "      <td>NaN</td>\n",
              "      <td>2008-08-07T00:25:03Z</td>\n",
              "      <td>NaN</td>\n",
              "      <td>9</td>\n",
              "      <td>How to learn ADO.NET</td>\n",
              "      <td>&lt;p&gt;I need to learn ADO.NET to build applicatio...</td>\n",
              "    </tr>\n",
              "    <tr>\n",
              "      <th>130</th>\n",
              "      <td>12330</td>\n",
              "      <td>NaN</td>\n",
              "      <td>2008-08-15T15:06:31Z</td>\n",
              "      <td>NaN</td>\n",
              "      <td>6</td>\n",
              "      <td>Programmatically list WMI classes and their pr...</td>\n",
              "      <td>&lt;p&gt;Hey everyone, \\nIs there any known way of l...</td>\n",
              "    </tr>\n",
              "    <tr>\n",
              "      <th>158</th>\n",
              "      <td>15190</td>\n",
              "      <td>NaN</td>\n",
              "      <td>2008-08-18T20:32:49Z</td>\n",
              "      <td>NaN</td>\n",
              "      <td>2</td>\n",
              "      <td>Changing CURRENT save/default directory in Del...</td>\n",
              "      <td>&lt;p&gt;I have a project group that contains a proj...</td>\n",
              "    </tr>\n",
              "    <tr>\n",
              "      <th>198</th>\n",
              "      <td>18250</td>\n",
              "      <td>NaN</td>\n",
              "      <td>2008-08-20T15:40:53Z</td>\n",
              "      <td>NaN</td>\n",
              "      <td>0</td>\n",
              "      <td>Creation Date of Compiled Executable (VC++ 2005)</td>\n",
              "      <td>&lt;p&gt;The creation date of an executable linked i...</td>\n",
              "    </tr>\n",
              "    <tr>\n",
              "      <th>300</th>\n",
              "      <td>29100</td>\n",
              "      <td>NaN</td>\n",
              "      <td>2008-08-26T22:28:22Z</td>\n",
              "      <td>NaN</td>\n",
              "      <td>5</td>\n",
              "      <td>How are you generating tests from specifications?</td>\n",
              "      <td>&lt;p&gt;I came across a printed &lt;a href=\"http://www...</td>\n",
              "    </tr>\n",
              "    <tr>\n",
              "      <th>...</th>\n",
              "      <td>...</td>\n",
              "      <td>...</td>\n",
              "      <td>...</td>\n",
              "      <td>...</td>\n",
              "      <td>...</td>\n",
              "      <td>...</td>\n",
              "      <td>...</td>\n",
              "    </tr>\n",
              "    <tr>\n",
              "      <th>1261359</th>\n",
              "      <td>40076260</td>\n",
              "      <td>NaN</td>\n",
              "      <td>2016-10-16T22:38:59Z</td>\n",
              "      <td>NaN</td>\n",
              "      <td>1</td>\n",
              "      <td>How can I find out if two lines overlap?</td>\n",
              "      <td>&lt;p&gt;My function takes two objects that represen...</td>\n",
              "    </tr>\n",
              "    <tr>\n",
              "      <th>1261501</th>\n",
              "      <td>40079260</td>\n",
              "      <td>NaN</td>\n",
              "      <td>2016-10-10T15:10:51Z</td>\n",
              "      <td>NaN</td>\n",
              "      <td>0</td>\n",
              "      <td>VB6.0 \"Run - time error '3709': The connection...</td>\n",
              "      <td>&lt;p&gt;&lt;a href=\"http://i.stack.imgur.com/M2EV8.png...</td>\n",
              "    </tr>\n",
              "    <tr>\n",
              "      <th>1263664</th>\n",
              "      <td>40130890</td>\n",
              "      <td>NaN</td>\n",
              "      <td>2016-10-19T12:02:24Z</td>\n",
              "      <td>2016-10-19T20:52:39Z</td>\n",
              "      <td>-4</td>\n",
              "      <td>How would i change my program so that the colo...</td>\n",
              "      <td>&lt;p&gt;&lt;div class=\"snippet\" data-lang=\"js\" data-hi...</td>\n",
              "    </tr>\n",
              "    <tr>\n",
              "      <th>1263908</th>\n",
              "      <td>40136590</td>\n",
              "      <td>NaN</td>\n",
              "      <td>2016-10-19T13:24:10Z</td>\n",
              "      <td>2016-10-19T16:37:57Z</td>\n",
              "      <td>0</td>\n",
              "      <td>Names of variables inside the 'for loop'</td>\n",
              "      <td>&lt;p&gt;In &lt;strong&gt;my_data&lt;/strong&gt; I want to creat...</td>\n",
              "    </tr>\n",
              "    <tr>\n",
              "      <th>1264010</th>\n",
              "      <td>40138620</td>\n",
              "      <td>NaN</td>\n",
              "      <td>2016-10-19T18:06:37Z</td>\n",
              "      <td>2016-10-19T20:46:58Z</td>\n",
              "      <td>0</td>\n",
              "      <td>Why on iMac bash doesn't see some files</td>\n",
              "      <td>&lt;p&gt;I have iMac and my bash on terminal has .ba...</td>\n",
              "    </tr>\n",
              "  </tbody>\n",
              "</table>\n",
              "<p>14454 rows × 7 columns</p>\n",
              "</div>"
            ],
            "text/plain": [
              "               Id  ...                                               Body\n",
              "47           4170  ...  <p>I need to learn ADO.NET to build applicatio...\n",
              "130         12330  ...  <p>Hey everyone, \\nIs there any known way of l...\n",
              "158         15190  ...  <p>I have a project group that contains a proj...\n",
              "198         18250  ...  <p>The creation date of an executable linked i...\n",
              "300         29100  ...  <p>I came across a printed <a href=\"http://www...\n",
              "...           ...  ...                                                ...\n",
              "1261359  40076260  ...  <p>My function takes two objects that represen...\n",
              "1261501  40079260  ...  <p><a href=\"http://i.stack.imgur.com/M2EV8.png...\n",
              "1263664  40130890  ...  <p><div class=\"snippet\" data-lang=\"js\" data-hi...\n",
              "1263908  40136590  ...  <p>In <strong>my_data</strong> I want to creat...\n",
              "1264010  40138620  ...  <p>I have iMac and my bash on terminal has .ba...\n",
              "\n",
              "[14454 rows x 7 columns]"
            ]
          },
          "metadata": {
            "tags": []
          },
          "execution_count": 5
        }
      ]
    },
    {
      "cell_type": "code",
      "metadata": {
        "colab": {
          "base_uri": "https://localhost:8080/"
        },
        "id": "-RqEaZ3DQPoE",
        "outputId": "d21a7142-71bc-4eb4-a760-df4474528a86"
      },
      "source": [
        "qs.OwnerUserId.fillna(value='0',inplace=True)\n",
        "qs.OwnerUserId[qs.OwnerUserId.isnull()==True].count()"
      ],
      "execution_count": null,
      "outputs": [
        {
          "output_type": "execute_result",
          "data": {
            "text/plain": [
              "0"
            ]
          },
          "metadata": {
            "tags": []
          },
          "execution_count": 6
        }
      ]
    },
    {
      "cell_type": "code",
      "metadata": {
        "id": "dN_dfIXiQ8be"
      },
      "source": [
        "qs.OwnerUserId = qs.OwnerUserId.astype(int)"
      ],
      "execution_count": null,
      "outputs": []
    },
    {
      "cell_type": "code",
      "metadata": {
        "colab": {
          "base_uri": "https://localhost:8080/"
        },
        "id": "WcJlCYWRRRU2",
        "outputId": "c2779503-8973-446d-9413-e3f0a13a415f"
      },
      "source": [
        "qs.dtypes"
      ],
      "execution_count": null,
      "outputs": [
        {
          "output_type": "execute_result",
          "data": {
            "text/plain": [
              "Id               int64\n",
              "OwnerUserId      int64\n",
              "CreationDate    object\n",
              "ClosedDate      object\n",
              "Score            int64\n",
              "Title           object\n",
              "Body            object\n",
              "dtype: object"
            ]
          },
          "metadata": {
            "tags": []
          },
          "execution_count": 8
        }
      ]
    },
    {
      "cell_type": "code",
      "metadata": {
        "colab": {
          "base_uri": "https://localhost:8080/"
        },
        "id": "irFNG076e5yb",
        "outputId": "aacd2339-d169-4cb5-e6b9-12ecde91562e"
      },
      "source": [
        "qs.count()"
      ],
      "execution_count": null,
      "outputs": [
        {
          "output_type": "execute_result",
          "data": {
            "text/plain": [
              "Id              1264216\n",
              "OwnerUserId     1264216\n",
              "CreationDate    1264216\n",
              "ClosedDate        55959\n",
              "Score           1264216\n",
              "Title           1264216\n",
              "Body            1264216\n",
              "dtype: int64"
            ]
          },
          "metadata": {
            "tags": []
          },
          "execution_count": 9
        }
      ]
    },
    {
      "cell_type": "code",
      "metadata": {
        "colab": {
          "base_uri": "https://localhost:8080/"
        },
        "id": "gZk8JCl15m20",
        "outputId": "de6307fb-a2d8-4f97-963e-9d9b2f089612"
      },
      "source": [
        "qs.info()"
      ],
      "execution_count": null,
      "outputs": [
        {
          "output_type": "stream",
          "text": [
            "<class 'pandas.core.frame.DataFrame'>\n",
            "RangeIndex: 1264216 entries, 0 to 1264215\n",
            "Data columns (total 7 columns):\n",
            " #   Column        Non-Null Count    Dtype \n",
            "---  ------        --------------    ----- \n",
            " 0   Id            1264216 non-null  int64 \n",
            " 1   OwnerUserId   1264216 non-null  int64 \n",
            " 2   CreationDate  1264216 non-null  object\n",
            " 3   ClosedDate    55959 non-null    object\n",
            " 4   Score         1264216 non-null  int64 \n",
            " 5   Title         1264216 non-null  object\n",
            " 6   Body          1264216 non-null  object\n",
            "dtypes: int64(3), object(4)\n",
            "memory usage: 67.5+ MB\n"
          ],
          "name": "stdout"
        }
      ]
    },
    {
      "cell_type": "markdown",
      "metadata": {
        "id": "k1Ue9qaRsghG"
      },
      "source": [
        "*Top 20 questions & their scores*"
      ]
    },
    {
      "cell_type": "code",
      "metadata": {
        "colab": {
          "base_uri": "https://localhost:8080/",
          "height": 647
        },
        "id": "278ogvjLhwhQ",
        "outputId": "b4ecf79a-b8bf-468b-ebba-ba5e78b5c6c1"
      },
      "source": [
        "qs_sort = qs.sort_values(by=['Score'],ascending = False)\n",
        "qs_sort[['Id','Score','Title']].head(20)"
      ],
      "execution_count": null,
      "outputs": [
        {
          "output_type": "execute_result",
          "data": {
            "text/html": [
              "<div>\n",
              "<style scoped>\n",
              "    .dataframe tbody tr th:only-of-type {\n",
              "        vertical-align: middle;\n",
              "    }\n",
              "\n",
              "    .dataframe tbody tr th {\n",
              "        vertical-align: top;\n",
              "    }\n",
              "\n",
              "    .dataframe thead th {\n",
              "        text-align: right;\n",
              "    }\n",
              "</style>\n",
              "<table border=\"1\" class=\"dataframe\">\n",
              "  <thead>\n",
              "    <tr style=\"text-align: right;\">\n",
              "      <th></th>\n",
              "      <th>Id</th>\n",
              "      <th>Score</th>\n",
              "      <th>Title</th>\n",
              "    </tr>\n",
              "  </thead>\n",
              "  <tbody>\n",
              "    <tr>\n",
              "      <th>4907</th>\n",
              "      <td>348170</td>\n",
              "      <td>5190</td>\n",
              "      <td>How to undo 'git add' before commit?</td>\n",
              "    </tr>\n",
              "    <tr>\n",
              "      <th>441</th>\n",
              "      <td>40480</td>\n",
              "      <td>3613</td>\n",
              "      <td>Is Java \"pass-by-reference\" or \"pass-by-value\"?</td>\n",
              "    </tr>\n",
              "    <tr>\n",
              "      <th>5859</th>\n",
              "      <td>406230</td>\n",
              "      <td>2537</td>\n",
              "      <td>Regular expression to match line that doesn't ...</td>\n",
              "    </tr>\n",
              "    <tr>\n",
              "      <th>7771</th>\n",
              "      <td>520650</td>\n",
              "      <td>2399</td>\n",
              "      <td>Make an existing Git branch track a remote bra...</td>\n",
              "    </tr>\n",
              "    <tr>\n",
              "      <th>57759</th>\n",
              "      <td>2669690</td>\n",
              "      <td>2363</td>\n",
              "      <td>Why does Google prepend while(1); to their JSO...</td>\n",
              "    </tr>\n",
              "    <tr>\n",
              "      <th>105015</th>\n",
              "      <td>4366730</td>\n",
              "      <td>1760</td>\n",
              "      <td>How to check if a string contains a specific w...</td>\n",
              "    </tr>\n",
              "    <tr>\n",
              "      <th>22609</th>\n",
              "      <td>1232040</td>\n",
              "      <td>1759</td>\n",
              "      <td>How do I empty an array in JavaScript?</td>\n",
              "    </tr>\n",
              "    <tr>\n",
              "      <th>485729</th>\n",
              "      <td>16956810</td>\n",
              "      <td>1716</td>\n",
              "      <td>How to find all files containing specific text...</td>\n",
              "    </tr>\n",
              "    <tr>\n",
              "      <th>67133</th>\n",
              "      <td>3010840</td>\n",
              "      <td>1620</td>\n",
              "      <td>Loop through an array in JavaScript</td>\n",
              "    </tr>\n",
              "    <tr>\n",
              "      <th>26</th>\n",
              "      <td>2530</td>\n",
              "      <td>1614</td>\n",
              "      <td>How do you disable browser Autocomplete on web...</td>\n",
              "    </tr>\n",
              "    <tr>\n",
              "      <th>13414</th>\n",
              "      <td>806000</td>\n",
              "      <td>1613</td>\n",
              "      <td>How do I give text or an image a transparent b...</td>\n",
              "    </tr>\n",
              "    <tr>\n",
              "      <th>97140</th>\n",
              "      <td>4089430</td>\n",
              "      <td>1567</td>\n",
              "      <td>How can I determine the URL that a local Git r...</td>\n",
              "    </tr>\n",
              "    <tr>\n",
              "      <th>11830</th>\n",
              "      <td>728360</td>\n",
              "      <td>1520</td>\n",
              "      <td>How do I correctly clone a JavaScript object?</td>\n",
              "    </tr>\n",
              "    <tr>\n",
              "      <th>19637</th>\n",
              "      <td>1098040</td>\n",
              "      <td>1513</td>\n",
              "      <td>Checking if a key exists in a JavaScript object?</td>\n",
              "    </tr>\n",
              "    <tr>\n",
              "      <th>4654</th>\n",
              "      <td>332030</td>\n",
              "      <td>1473</td>\n",
              "      <td>When should static_cast, dynamic_cast, const_c...</td>\n",
              "    </tr>\n",
              "    <tr>\n",
              "      <th>15252</th>\n",
              "      <td>894860</td>\n",
              "      <td>1460</td>\n",
              "      <td>Set a default parameter value for a JavaScript...</td>\n",
              "    </tr>\n",
              "    <tr>\n",
              "      <th>61163</th>\n",
              "      <td>2793150</td>\n",
              "      <td>1412</td>\n",
              "      <td>Using java.net.URLConnection to fire and handl...</td>\n",
              "    </tr>\n",
              "    <tr>\n",
              "      <th>7223</th>\n",
              "      <td>489340</td>\n",
              "      <td>1327</td>\n",
              "      <td>Vertically align text next to an image?</td>\n",
              "    </tr>\n",
              "    <tr>\n",
              "      <th>128565</th>\n",
              "      <td>5189560</td>\n",
              "      <td>1147</td>\n",
              "      <td>Squash my last X commits together using Git</td>\n",
              "    </tr>\n",
              "    <tr>\n",
              "      <th>22281</th>\n",
              "      <td>1218390</td>\n",
              "      <td>1129</td>\n",
              "      <td>What is your most productive shortcut with Vim?</td>\n",
              "    </tr>\n",
              "  </tbody>\n",
              "</table>\n",
              "</div>"
            ],
            "text/plain": [
              "              Id  Score                                              Title\n",
              "4907      348170   5190               How to undo 'git add' before commit?\n",
              "441        40480   3613    Is Java \"pass-by-reference\" or \"pass-by-value\"?\n",
              "5859      406230   2537  Regular expression to match line that doesn't ...\n",
              "7771      520650   2399  Make an existing Git branch track a remote bra...\n",
              "57759    2669690   2363  Why does Google prepend while(1); to their JSO...\n",
              "105015   4366730   1760  How to check if a string contains a specific w...\n",
              "22609    1232040   1759             How do I empty an array in JavaScript?\n",
              "485729  16956810   1716  How to find all files containing specific text...\n",
              "67133    3010840   1620                Loop through an array in JavaScript\n",
              "26          2530   1614  How do you disable browser Autocomplete on web...\n",
              "13414     806000   1613  How do I give text or an image a transparent b...\n",
              "97140    4089430   1567  How can I determine the URL that a local Git r...\n",
              "11830     728360   1520      How do I correctly clone a JavaScript object?\n",
              "19637    1098040   1513   Checking if a key exists in a JavaScript object?\n",
              "4654      332030   1473  When should static_cast, dynamic_cast, const_c...\n",
              "15252     894860   1460  Set a default parameter value for a JavaScript...\n",
              "61163    2793150   1412  Using java.net.URLConnection to fire and handl...\n",
              "7223      489340   1327            Vertically align text next to an image?\n",
              "128565   5189560   1147        Squash my last X commits together using Git\n",
              "22281    1218390   1129    What is your most productive shortcut with Vim?"
            ]
          },
          "metadata": {
            "tags": []
          },
          "execution_count": 11
        }
      ]
    },
    {
      "cell_type": "markdown",
      "metadata": {
        "id": "-vw2N2HPtULf"
      },
      "source": [
        "*Top 20 Users who have asked questions, We are ignoring the OwnerUserId = 0 as it was NaN*"
      ]
    },
    {
      "cell_type": "code",
      "metadata": {
        "colab": {
          "base_uri": "https://localhost:8080/"
        },
        "id": "DMddxZpysoy7",
        "outputId": "bb1e6c1a-acc5-4634-d777-3c7b3e3a5ea6"
      },
      "source": [
        "qs[qs.OwnerUserId!=0].groupby('OwnerUserId')['OwnerUserId'].count().sort_values(ascending=False)[:20]"
      ],
      "execution_count": null,
      "outputs": [
        {
          "output_type": "execute_result",
          "data": {
            "text/plain": [
              "OwnerUserId\n",
              "875317     250\n",
              "39677      227\n",
              "4653       175\n",
              "651174     164\n",
              "34537      153\n",
              "1194415    147\n",
              "179736     142\n",
              "117700     141\n",
              "84201      140\n",
              "470184     132\n",
              "65387      124\n",
              "892029     123\n",
              "260127     121\n",
              "784597     119\n",
              "149080     116\n",
              "325418     116\n",
              "122536     114\n",
              "8741       114\n",
              "4639       114\n",
              "257022     113\n",
              "Name: OwnerUserId, dtype: int64"
            ]
          },
          "metadata": {
            "tags": []
          },
          "execution_count": 12
        }
      ]
    },
    {
      "cell_type": "markdown",
      "metadata": {
        "id": "_Ew-nOcqybgC"
      },
      "source": [
        "*Store above data for further analysis as DF in qs_t20u*"
      ]
    },
    {
      "cell_type": "code",
      "metadata": {
        "id": "1-O-laNnym3c"
      },
      "source": [
        "qs_t20u = qs[qs.OwnerUserId!=0].groupby('OwnerUserId')['OwnerUserId'].count().sort_values(ascending=False)[:20]"
      ],
      "execution_count": null,
      "outputs": []
    },
    {
      "cell_type": "markdown",
      "metadata": {
        "id": "_eCw619_zwAj"
      },
      "source": [
        "#### *Next we start with Answers.csv*"
      ]
    },
    {
      "cell_type": "code",
      "metadata": {
        "colab": {
          "base_uri": "https://localhost:8080/",
          "height": 197
        },
        "id": "Xd06oWpIFxBb",
        "outputId": "a048349c-9ad7-4558-d4d1-355ab41c3dd1"
      },
      "source": [
        "ans=pd.read_csv(\"https://stack-overflow-casestudy-datasets.s3.amazonaws.com/Answers.csv\",encoding='latin-1')\n",
        "ans.head()"
      ],
      "execution_count": null,
      "outputs": [
        {
          "output_type": "execute_result",
          "data": {
            "text/html": [
              "<div>\n",
              "<style scoped>\n",
              "    .dataframe tbody tr th:only-of-type {\n",
              "        vertical-align: middle;\n",
              "    }\n",
              "\n",
              "    .dataframe tbody tr th {\n",
              "        vertical-align: top;\n",
              "    }\n",
              "\n",
              "    .dataframe thead th {\n",
              "        text-align: right;\n",
              "    }\n",
              "</style>\n",
              "<table border=\"1\" class=\"dataframe\">\n",
              "  <thead>\n",
              "    <tr style=\"text-align: right;\">\n",
              "      <th></th>\n",
              "      <th>Id</th>\n",
              "      <th>OwnerUserId</th>\n",
              "      <th>CreationDate</th>\n",
              "      <th>ParentId</th>\n",
              "      <th>Score</th>\n",
              "      <th>Body</th>\n",
              "    </tr>\n",
              "  </thead>\n",
              "  <tbody>\n",
              "    <tr>\n",
              "      <th>0</th>\n",
              "      <td>92</td>\n",
              "      <td>61.0</td>\n",
              "      <td>2008-08-01T14:45:37Z</td>\n",
              "      <td>90</td>\n",
              "      <td>13</td>\n",
              "      <td>&lt;p&gt;&lt;a href=\"http://svnbook.red-bean.com/\"&gt;Vers...</td>\n",
              "    </tr>\n",
              "    <tr>\n",
              "      <th>1</th>\n",
              "      <td>124</td>\n",
              "      <td>26.0</td>\n",
              "      <td>2008-08-01T16:09:47Z</td>\n",
              "      <td>80</td>\n",
              "      <td>12</td>\n",
              "      <td>&lt;p&gt;I wound up using this. It is a kind of a ha...</td>\n",
              "    </tr>\n",
              "    <tr>\n",
              "      <th>2</th>\n",
              "      <td>199</td>\n",
              "      <td>50.0</td>\n",
              "      <td>2008-08-01T19:36:46Z</td>\n",
              "      <td>180</td>\n",
              "      <td>1</td>\n",
              "      <td>&lt;p&gt;I've read somewhere the human eye can't dis...</td>\n",
              "    </tr>\n",
              "    <tr>\n",
              "      <th>3</th>\n",
              "      <td>269</td>\n",
              "      <td>91.0</td>\n",
              "      <td>2008-08-01T23:49:57Z</td>\n",
              "      <td>260</td>\n",
              "      <td>4</td>\n",
              "      <td>&lt;p&gt;Yes, I thought about that, but I soon figur...</td>\n",
              "    </tr>\n",
              "    <tr>\n",
              "      <th>4</th>\n",
              "      <td>307</td>\n",
              "      <td>49.0</td>\n",
              "      <td>2008-08-02T01:49:46Z</td>\n",
              "      <td>260</td>\n",
              "      <td>28</td>\n",
              "      <td>&lt;p&gt;&lt;a href=\"http://www.codeproject.com/Article...</td>\n",
              "    </tr>\n",
              "  </tbody>\n",
              "</table>\n",
              "</div>"
            ],
            "text/plain": [
              "    Id  OwnerUserId  ... Score                                               Body\n",
              "0   92         61.0  ...    13  <p><a href=\"http://svnbook.red-bean.com/\">Vers...\n",
              "1  124         26.0  ...    12  <p>I wound up using this. It is a kind of a ha...\n",
              "2  199         50.0  ...     1  <p>I've read somewhere the human eye can't dis...\n",
              "3  269         91.0  ...     4  <p>Yes, I thought about that, but I soon figur...\n",
              "4  307         49.0  ...    28  <p><a href=\"http://www.codeproject.com/Article...\n",
              "\n",
              "[5 rows x 6 columns]"
            ]
          },
          "metadata": {
            "tags": []
          },
          "execution_count": 14
        }
      ]
    },
    {
      "cell_type": "code",
      "metadata": {
        "colab": {
          "base_uri": "https://localhost:8080/",
          "height": 287
        },
        "id": "OltGINVj1H4Q",
        "outputId": "3c77328d-7a09-4f96-bd2b-f60292f12bd3"
      },
      "source": [
        "ans.describe()"
      ],
      "execution_count": null,
      "outputs": [
        {
          "output_type": "execute_result",
          "data": {
            "text/html": [
              "<div>\n",
              "<style scoped>\n",
              "    .dataframe tbody tr th:only-of-type {\n",
              "        vertical-align: middle;\n",
              "    }\n",
              "\n",
              "    .dataframe tbody tr th {\n",
              "        vertical-align: top;\n",
              "    }\n",
              "\n",
              "    .dataframe thead th {\n",
              "        text-align: right;\n",
              "    }\n",
              "</style>\n",
              "<table border=\"1\" class=\"dataframe\">\n",
              "  <thead>\n",
              "    <tr style=\"text-align: right;\">\n",
              "      <th></th>\n",
              "      <th>Id</th>\n",
              "      <th>OwnerUserId</th>\n",
              "      <th>ParentId</th>\n",
              "      <th>Score</th>\n",
              "    </tr>\n",
              "  </thead>\n",
              "  <tbody>\n",
              "    <tr>\n",
              "      <th>count</th>\n",
              "      <td>2.014516e+06</td>\n",
              "      <td>2.001316e+06</td>\n",
              "      <td>2.014516e+06</td>\n",
              "      <td>2.014516e+06</td>\n",
              "    </tr>\n",
              "    <tr>\n",
              "      <th>mean</th>\n",
              "      <td>1.915490e+07</td>\n",
              "      <td>1.487613e+06</td>\n",
              "      <td>1.808390e+07</td>\n",
              "      <td>2.480563e+00</td>\n",
              "    </tr>\n",
              "    <tr>\n",
              "      <th>std</th>\n",
              "      <td>1.168713e+07</td>\n",
              "      <td>1.549051e+06</td>\n",
              "      <td>1.169152e+07</td>\n",
              "      <td>1.590938e+01</td>\n",
              "    </tr>\n",
              "    <tr>\n",
              "      <th>min</th>\n",
              "      <td>9.200000e+01</td>\n",
              "      <td>1.000000e+00</td>\n",
              "      <td>8.000000e+01</td>\n",
              "      <td>-4.200000e+01</td>\n",
              "    </tr>\n",
              "    <tr>\n",
              "      <th>25%</th>\n",
              "      <td>8.854490e+06</td>\n",
              "      <td>2.818680e+05</td>\n",
              "      <td>7.692900e+06</td>\n",
              "      <td>0.000000e+00</td>\n",
              "    </tr>\n",
              "    <tr>\n",
              "      <th>50%</th>\n",
              "      <td>1.866246e+07</td>\n",
              "      <td>9.546430e+05</td>\n",
              "      <td>1.712404e+07</td>\n",
              "      <td>1.000000e+00</td>\n",
              "    </tr>\n",
              "    <tr>\n",
              "      <th>75%</th>\n",
              "      <td>2.929756e+07</td>\n",
              "      <td>2.197072e+06</td>\n",
              "      <td>2.804977e+07</td>\n",
              "      <td>2.000000e+00</td>\n",
              "    </tr>\n",
              "    <tr>\n",
              "      <th>max</th>\n",
              "      <td>4.014339e+07</td>\n",
              "      <td>7.045028e+06</td>\n",
              "      <td>4.014319e+07</td>\n",
              "      <td>5.718000e+03</td>\n",
              "    </tr>\n",
              "  </tbody>\n",
              "</table>\n",
              "</div>"
            ],
            "text/plain": [
              "                 Id   OwnerUserId      ParentId         Score\n",
              "count  2.014516e+06  2.001316e+06  2.014516e+06  2.014516e+06\n",
              "mean   1.915490e+07  1.487613e+06  1.808390e+07  2.480563e+00\n",
              "std    1.168713e+07  1.549051e+06  1.169152e+07  1.590938e+01\n",
              "min    9.200000e+01  1.000000e+00  8.000000e+01 -4.200000e+01\n",
              "25%    8.854490e+06  2.818680e+05  7.692900e+06  0.000000e+00\n",
              "50%    1.866246e+07  9.546430e+05  1.712404e+07  1.000000e+00\n",
              "75%    2.929756e+07  2.197072e+06  2.804977e+07  2.000000e+00\n",
              "max    4.014339e+07  7.045028e+06  4.014319e+07  5.718000e+03"
            ]
          },
          "metadata": {
            "tags": []
          },
          "execution_count": 15
        }
      ]
    },
    {
      "cell_type": "code",
      "metadata": {
        "colab": {
          "base_uri": "https://localhost:8080/"
        },
        "id": "oFtfVaKi1N0h",
        "outputId": "12eabe14-b94c-421f-91f7-0eba7871c69b"
      },
      "source": [
        "ans.dtypes"
      ],
      "execution_count": null,
      "outputs": [
        {
          "output_type": "execute_result",
          "data": {
            "text/plain": [
              "Id                int64\n",
              "OwnerUserId     float64\n",
              "CreationDate     object\n",
              "ParentId          int64\n",
              "Score             int64\n",
              "Body             object\n",
              "dtype: object"
            ]
          },
          "metadata": {
            "tags": []
          },
          "execution_count": 16
        }
      ]
    },
    {
      "cell_type": "markdown",
      "metadata": {
        "id": "Y5h_S1BLpVaI"
      },
      "source": [
        "Above data shows that data has OwnerUserId as float and this need conversion to int but when using ans.OwnerUserId.astype(int) we see that it throws error as data has NaN in it, so we convert such values as 0 and then convert it to int"
      ]
    },
    {
      "cell_type": "code",
      "metadata": {
        "colab": {
          "base_uri": "https://localhost:8080/",
          "height": 406
        },
        "id": "bKSlUiWTzKyn",
        "outputId": "5606d51d-cd49-4f68-f751-02a549f1602e"
      },
      "source": [
        "ans[ans.OwnerUserId.isnull()==True]"
      ],
      "execution_count": null,
      "outputs": [
        {
          "output_type": "execute_result",
          "data": {
            "text/html": [
              "<div>\n",
              "<style scoped>\n",
              "    .dataframe tbody tr th:only-of-type {\n",
              "        vertical-align: middle;\n",
              "    }\n",
              "\n",
              "    .dataframe tbody tr th {\n",
              "        vertical-align: top;\n",
              "    }\n",
              "\n",
              "    .dataframe thead th {\n",
              "        text-align: right;\n",
              "    }\n",
              "</style>\n",
              "<table border=\"1\" class=\"dataframe\">\n",
              "  <thead>\n",
              "    <tr style=\"text-align: right;\">\n",
              "      <th></th>\n",
              "      <th>Id</th>\n",
              "      <th>OwnerUserId</th>\n",
              "      <th>CreationDate</th>\n",
              "      <th>ParentId</th>\n",
              "      <th>Score</th>\n",
              "      <th>Body</th>\n",
              "    </tr>\n",
              "  </thead>\n",
              "  <tbody>\n",
              "    <tr>\n",
              "      <th>29</th>\n",
              "      <td>1051</td>\n",
              "      <td>NaN</td>\n",
              "      <td>2008-08-04T06:15:30Z</td>\n",
              "      <td>1040</td>\n",
              "      <td>11</td>\n",
              "      <td>&lt;P&gt;The typical method is as follows. You've sa...</td>\n",
              "    </tr>\n",
              "    <tr>\n",
              "      <th>176</th>\n",
              "      <td>5321</td>\n",
              "      <td>NaN</td>\n",
              "      <td>2008-08-07T21:11:52Z</td>\n",
              "      <td>3230</td>\n",
              "      <td>10</td>\n",
              "      <td>&lt;P&gt;You need to set the run-time library (Under...</td>\n",
              "    </tr>\n",
              "    <tr>\n",
              "      <th>241</th>\n",
              "      <td>7464</td>\n",
              "      <td>NaN</td>\n",
              "      <td>2008-08-11T01:11:07Z</td>\n",
              "      <td>7440</td>\n",
              "      <td>2</td>\n",
              "      <td>&lt;p&gt;We use Selenium Core, but are switching gra...</td>\n",
              "    </tr>\n",
              "    <tr>\n",
              "      <th>251</th>\n",
              "      <td>7587</td>\n",
              "      <td>NaN</td>\n",
              "      <td>2008-08-11T07:33:18Z</td>\n",
              "      <td>6210</td>\n",
              "      <td>0</td>\n",
              "      <td>&lt;p&gt;How about using the new Workflow components...</td>\n",
              "    </tr>\n",
              "    <tr>\n",
              "      <th>321</th>\n",
              "      <td>9562</td>\n",
              "      <td>NaN</td>\n",
              "      <td>2008-08-13T07:52:51Z</td>\n",
              "      <td>4860</td>\n",
              "      <td>0</td>\n",
              "      <td>&lt;p&gt;Can you let us know that technology you are...</td>\n",
              "    </tr>\n",
              "    <tr>\n",
              "      <th>...</th>\n",
              "      <td>...</td>\n",
              "      <td>...</td>\n",
              "      <td>...</td>\n",
              "      <td>...</td>\n",
              "      <td>...</td>\n",
              "      <td>...</td>\n",
              "    </tr>\n",
              "    <tr>\n",
              "      <th>2009549</th>\n",
              "      <td>40037805</td>\n",
              "      <td>NaN</td>\n",
              "      <td>2016-10-14T07:51:09Z</td>\n",
              "      <td>40037610</td>\n",
              "      <td>0</td>\n",
              "      <td>&lt;p&gt;just change the code to &lt;br&gt;&lt;/p&gt;\\n\\n&lt;pre&gt;&lt;c...</td>\n",
              "    </tr>\n",
              "    <tr>\n",
              "      <th>2010030</th>\n",
              "      <td>40047726</td>\n",
              "      <td>NaN</td>\n",
              "      <td>2016-10-14T16:15:27Z</td>\n",
              "      <td>40047680</td>\n",
              "      <td>1</td>\n",
              "      <td>&lt;p&gt;You can create a single function that calls...</td>\n",
              "    </tr>\n",
              "    <tr>\n",
              "      <th>2010875</th>\n",
              "      <td>40065684</td>\n",
              "      <td>NaN</td>\n",
              "      <td>2016-10-16T00:40:42Z</td>\n",
              "      <td>10228750</td>\n",
              "      <td>0</td>\n",
              "      <td>&lt;p&gt;Your class UserController &lt;/p&gt;\\n\\n&lt;p&gt;route:...</td>\n",
              "    </tr>\n",
              "    <tr>\n",
              "      <th>2013281</th>\n",
              "      <td>40117272</td>\n",
              "      <td>NaN</td>\n",
              "      <td>2016-10-18T20:13:28Z</td>\n",
              "      <td>40115990</td>\n",
              "      <td>1</td>\n",
              "      <td>&lt;p&gt;As this &lt;a href=\"http://stackoverflow.com/a...</td>\n",
              "    </tr>\n",
              "    <tr>\n",
              "      <th>2013656</th>\n",
              "      <td>40125006</td>\n",
              "      <td>NaN</td>\n",
              "      <td>2016-10-19T07:37:03Z</td>\n",
              "      <td>40123910</td>\n",
              "      <td>1</td>\n",
              "      <td>&lt;p&gt;i think should be.&lt;/p&gt;\\n\\n&lt;pre&gt;&lt;code&gt;cursor...</td>\n",
              "    </tr>\n",
              "  </tbody>\n",
              "</table>\n",
              "<p>13200 rows × 6 columns</p>\n",
              "</div>"
            ],
            "text/plain": [
              "               Id  ...                                               Body\n",
              "29           1051  ...  <P>The typical method is as follows. You've sa...\n",
              "176          5321  ...  <P>You need to set the run-time library (Under...\n",
              "241          7464  ...  <p>We use Selenium Core, but are switching gra...\n",
              "251          7587  ...  <p>How about using the new Workflow components...\n",
              "321          9562  ...  <p>Can you let us know that technology you are...\n",
              "...           ...  ...                                                ...\n",
              "2009549  40037805  ...  <p>just change the code to <br></p>\\n\\n<pre><c...\n",
              "2010030  40047726  ...  <p>You can create a single function that calls...\n",
              "2010875  40065684  ...  <p>Your class UserController </p>\\n\\n<p>route:...\n",
              "2013281  40117272  ...  <p>As this <a href=\"http://stackoverflow.com/a...\n",
              "2013656  40125006  ...  <p>i think should be.</p>\\n\\n<pre><code>cursor...\n",
              "\n",
              "[13200 rows x 6 columns]"
            ]
          },
          "metadata": {
            "tags": []
          },
          "execution_count": 17
        }
      ]
    },
    {
      "cell_type": "code",
      "metadata": {
        "colab": {
          "base_uri": "https://localhost:8080/"
        },
        "id": "igf4bqJK0q8O",
        "outputId": "1b9c77d7-8751-4cd0-a274-045bf97bf45e"
      },
      "source": [
        "ans.OwnerUserId.fillna(value='0',inplace=True)\n",
        "ans.OwnerUserId[ans.OwnerUserId.isnull()==True].count()"
      ],
      "execution_count": null,
      "outputs": [
        {
          "output_type": "execute_result",
          "data": {
            "text/plain": [
              "0"
            ]
          },
          "metadata": {
            "tags": []
          },
          "execution_count": 18
        }
      ]
    },
    {
      "cell_type": "code",
      "metadata": {
        "id": "xVThRPKP08VW"
      },
      "source": [
        "ans.OwnerUserId = ans.OwnerUserId.astype(int)"
      ],
      "execution_count": null,
      "outputs": []
    },
    {
      "cell_type": "code",
      "metadata": {
        "colab": {
          "base_uri": "https://localhost:8080/"
        },
        "id": "UFKuazSw070-",
        "outputId": "525e5e34-a76c-46e0-80e6-b6e4d9e37efa"
      },
      "source": [
        "ans.dtypes"
      ],
      "execution_count": null,
      "outputs": [
        {
          "output_type": "execute_result",
          "data": {
            "text/plain": [
              "Id               int64\n",
              "OwnerUserId      int64\n",
              "CreationDate    object\n",
              "ParentId         int64\n",
              "Score            int64\n",
              "Body            object\n",
              "dtype: object"
            ]
          },
          "metadata": {
            "tags": []
          },
          "execution_count": 20
        }
      ]
    },
    {
      "cell_type": "code",
      "metadata": {
        "colab": {
          "base_uri": "https://localhost:8080/"
        },
        "id": "Kbul_4-_5u9K",
        "outputId": "ceea8a8c-d1a7-4ff0-dd6d-2c8e28c8be6a"
      },
      "source": [
        "ans.info()"
      ],
      "execution_count": null,
      "outputs": [
        {
          "output_type": "stream",
          "text": [
            "<class 'pandas.core.frame.DataFrame'>\n",
            "RangeIndex: 2014516 entries, 0 to 2014515\n",
            "Data columns (total 6 columns):\n",
            " #   Column        Dtype \n",
            "---  ------        ----- \n",
            " 0   Id            int64 \n",
            " 1   OwnerUserId   int64 \n",
            " 2   CreationDate  object\n",
            " 3   ParentId      int64 \n",
            " 4   Score         int64 \n",
            " 5   Body          object\n",
            "dtypes: int64(4), object(2)\n",
            "memory usage: 92.2+ MB\n"
          ],
          "name": "stdout"
        }
      ]
    },
    {
      "cell_type": "markdown",
      "metadata": {
        "id": "ceemK1N_1uLf"
      },
      "source": [
        "Top 20 question & their score with respect to Answer Body\n"
      ]
    },
    {
      "cell_type": "code",
      "metadata": {
        "colab": {
          "base_uri": "https://localhost:8080/",
          "height": 647
        },
        "id": "61B8Pcdh1-mu",
        "outputId": "866f42dc-47b9-4d74-b36f-2c1557842ab0"
      },
      "source": [
        "ans_sort = ans.sort_values(by=['Score'],ascending = False)\n",
        "ans_sort[['ParentId','Score','Body']].head(20)"
      ],
      "execution_count": null,
      "outputs": [
        {
          "output_type": "execute_result",
          "data": {
            "text/html": [
              "<div>\n",
              "<style scoped>\n",
              "    .dataframe tbody tr th:only-of-type {\n",
              "        vertical-align: middle;\n",
              "    }\n",
              "\n",
              "    .dataframe tbody tr th {\n",
              "        vertical-align: top;\n",
              "    }\n",
              "\n",
              "    .dataframe thead th {\n",
              "        text-align: right;\n",
              "    }\n",
              "</style>\n",
              "<table border=\"1\" class=\"dataframe\">\n",
              "  <thead>\n",
              "    <tr style=\"text-align: right;\">\n",
              "      <th></th>\n",
              "      <th>ParentId</th>\n",
              "      <th>Score</th>\n",
              "      <th>Body</th>\n",
              "    </tr>\n",
              "  </thead>\n",
              "  <tbody>\n",
              "    <tr>\n",
              "      <th>18568</th>\n",
              "      <td>348170</td>\n",
              "      <td>5718</td>\n",
              "      <td>&lt;p&gt;You can undo &lt;code&gt;git add&lt;/code&gt; before co...</td>\n",
              "    </tr>\n",
              "    <tr>\n",
              "      <th>21768</th>\n",
              "      <td>406230</td>\n",
              "      <td>3637</td>\n",
              "      <td>&lt;p&gt;The notion that regex doesn't support inver...</td>\n",
              "    </tr>\n",
              "    <tr>\n",
              "      <th>253713</th>\n",
              "      <td>4366730</td>\n",
              "      <td>3549</td>\n",
              "      <td>&lt;p&gt;You can use the &lt;a href=\"http://php.net/man...</td>\n",
              "    </tr>\n",
              "    <tr>\n",
              "      <th>1870</th>\n",
              "      <td>40480</td>\n",
              "      <td>3038</td>\n",
              "      <td>&lt;p&gt;Java is always &lt;strong&gt;pass-by-value&lt;/stron...</td>\n",
              "    </tr>\n",
              "    <tr>\n",
              "      <th>922565</th>\n",
              "      <td>16956810</td>\n",
              "      <td>2988</td>\n",
              "      <td>&lt;p&gt;Do the following:&lt;/p&gt;\\n\\n&lt;pre class=\"lang-s...</td>\n",
              "    </tr>\n",
              "    <tr>\n",
              "      <th>135055</th>\n",
              "      <td>520650</td>\n",
              "      <td>2925</td>\n",
              "      <td>&lt;p&gt;Given a branch &lt;code&gt;foo&lt;/code&gt; and a remot...</td>\n",
              "    </tr>\n",
              "    <tr>\n",
              "      <th>70939</th>\n",
              "      <td>1218390</td>\n",
              "      <td>2867</td>\n",
              "      <td>&lt;h3&gt;Your problem with &lt;strong&gt;Vim&lt;/strong&gt; is ...</td>\n",
              "    </tr>\n",
              "    <tr>\n",
              "      <th>157039</th>\n",
              "      <td>2669690</td>\n",
              "      <td>2594</td>\n",
              "      <td>&lt;p&gt;It prevents &lt;a href=\"http://haacked.com/arc...</td>\n",
              "    </tr>\n",
              "    <tr>\n",
              "      <th>679559</th>\n",
              "      <td>6245570</td>\n",
              "      <td>2419</td>\n",
              "      <td>&lt;pre&gt;&lt;code&gt;git rev-parse --abbrev-ref HEAD\\n&lt;/...</td>\n",
              "    </tr>\n",
              "    <tr>\n",
              "      <th>51131</th>\n",
              "      <td>894860</td>\n",
              "      <td>2305</td>\n",
              "      <td>&lt;p&gt;From ES6/ES2015, default parameters is in t...</td>\n",
              "    </tr>\n",
              "    <tr>\n",
              "      <th>176584</th>\n",
              "      <td>3010840</td>\n",
              "      <td>2276</td>\n",
              "      <td>&lt;p&gt;Use a sequential &lt;code&gt;for&lt;/code&gt; loop:&lt;/p&gt;...</td>\n",
              "    </tr>\n",
              "    <tr>\n",
              "      <th>237667</th>\n",
              "      <td>4089430</td>\n",
              "      <td>2274</td>\n",
              "      <td>&lt;p&gt;If referential integrity has been broken:&lt;/...</td>\n",
              "    </tr>\n",
              "    <tr>\n",
              "      <th>71617</th>\n",
              "      <td>1232040</td>\n",
              "      <td>2175</td>\n",
              "      <td>&lt;p&gt;Ways to clear an existing array &lt;code&gt;A&lt;/co...</td>\n",
              "    </tr>\n",
              "    <tr>\n",
              "      <th>164137</th>\n",
              "      <td>2793150</td>\n",
              "      <td>2173</td>\n",
              "      <td>&lt;p&gt;&lt;sup&gt;&lt;em&gt;First a disclaimer beforehand: the...</td>\n",
              "    </tr>\n",
              "    <tr>\n",
              "      <th>63818</th>\n",
              "      <td>1098040</td>\n",
              "      <td>2090</td>\n",
              "      <td>&lt;p&gt;Checking for undefined-ness is not an accur...</td>\n",
              "    </tr>\n",
              "    <tr>\n",
              "      <th>71756</th>\n",
              "      <td>1232040</td>\n",
              "      <td>1963</td>\n",
              "      <td>&lt;p&gt;If you need to keep the original array beca...</td>\n",
              "    </tr>\n",
              "    <tr>\n",
              "      <th>3786</th>\n",
              "      <td>40480</td>\n",
              "      <td>1922</td>\n",
              "      <td>&lt;p&gt;I just noticed you referenced &lt;a href=\"http...</td>\n",
              "    </tr>\n",
              "    <tr>\n",
              "      <th>29430</th>\n",
              "      <td>538060</td>\n",
              "      <td>1858</td>\n",
              "      <td>&lt;p&gt;The point of Dispose &lt;strong&gt;is&lt;/strong&gt; to...</td>\n",
              "    </tr>\n",
              "    <tr>\n",
              "      <th>45863</th>\n",
              "      <td>806000</td>\n",
              "      <td>1857</td>\n",
              "      <td>&lt;p&gt;Either use a semi-transparent &lt;a href=\"http...</td>\n",
              "    </tr>\n",
              "    <tr>\n",
              "      <th>17760</th>\n",
              "      <td>332030</td>\n",
              "      <td>1730</td>\n",
              "      <td>&lt;p&gt;&lt;strong&gt;&lt;code&gt;static_cast&lt;/code&gt;&lt;/strong&gt; i...</td>\n",
              "    </tr>\n",
              "  </tbody>\n",
              "</table>\n",
              "</div>"
            ],
            "text/plain": [
              "        ParentId  Score                                               Body\n",
              "18568     348170   5718  <p>You can undo <code>git add</code> before co...\n",
              "21768     406230   3637  <p>The notion that regex doesn't support inver...\n",
              "253713   4366730   3549  <p>You can use the <a href=\"http://php.net/man...\n",
              "1870       40480   3038  <p>Java is always <strong>pass-by-value</stron...\n",
              "922565  16956810   2988  <p>Do the following:</p>\\n\\n<pre class=\"lang-s...\n",
              "135055    520650   2925  <p>Given a branch <code>foo</code> and a remot...\n",
              "70939    1218390   2867  <h3>Your problem with <strong>Vim</strong> is ...\n",
              "157039   2669690   2594  <p>It prevents <a href=\"http://haacked.com/arc...\n",
              "679559   6245570   2419  <pre><code>git rev-parse --abbrev-ref HEAD\\n</...\n",
              "51131     894860   2305  <p>From ES6/ES2015, default parameters is in t...\n",
              "176584   3010840   2276  <p>Use a sequential <code>for</code> loop:</p>...\n",
              "237667   4089430   2274  <p>If referential integrity has been broken:</...\n",
              "71617    1232040   2175  <p>Ways to clear an existing array <code>A</co...\n",
              "164137   2793150   2173  <p><sup><em>First a disclaimer beforehand: the...\n",
              "63818    1098040   2090  <p>Checking for undefined-ness is not an accur...\n",
              "71756    1232040   1963  <p>If you need to keep the original array beca...\n",
              "3786       40480   1922  <p>I just noticed you referenced <a href=\"http...\n",
              "29430     538060   1858  <p>The point of Dispose <strong>is</strong> to...\n",
              "45863     806000   1857  <p>Either use a semi-transparent <a href=\"http...\n",
              "17760     332030   1730  <p><strong><code>static_cast</code></strong> i..."
            ]
          },
          "metadata": {
            "tags": []
          },
          "execution_count": 22
        }
      ]
    },
    {
      "cell_type": "markdown",
      "metadata": {
        "id": "lxhXXIWX2pg3"
      },
      "source": [
        "*Top 20 users answering the questions*"
      ]
    },
    {
      "cell_type": "code",
      "metadata": {
        "colab": {
          "base_uri": "https://localhost:8080/"
        },
        "id": "l32mZYO4253Z",
        "outputId": "6d2d2ebf-6933-4972-b5aa-fb8583c19bb4"
      },
      "source": [
        "ans[ans.OwnerUserId!=0].groupby('OwnerUserId')['OwnerUserId'].count().sort_values(ascending=False)[:20]"
      ],
      "execution_count": null,
      "outputs": [
        {
          "output_type": "execute_result",
          "data": {
            "text/plain": [
              "OwnerUserId\n",
              "22656      3270\n",
              "1144035    3009\n",
              "29407      2144\n",
              "548225     1924\n",
              "115145     1813\n",
              "100297     1675\n",
              "157882     1673\n",
              "6309       1624\n",
              "17034      1607\n",
              "19068      1586\n",
              "34397      1474\n",
              "1491895    1393\n",
              "23354      1296\n",
              "335858     1292\n",
              "57695      1275\n",
              "157247     1246\n",
              "571407     1220\n",
              "20862      1207\n",
              "505088     1190\n",
              "207421     1134\n",
              "Name: OwnerUserId, dtype: int64"
            ]
          },
          "metadata": {
            "tags": []
          },
          "execution_count": 23
        }
      ]
    },
    {
      "cell_type": "markdown",
      "metadata": {
        "id": "5M74rWhl3vXt"
      },
      "source": [
        "*Store the above in ans_t20u*"
      ]
    },
    {
      "cell_type": "code",
      "metadata": {
        "id": "V0pPLVon3x3l"
      },
      "source": [
        "ans_t20u = ans[ans.OwnerUserId!=0].groupby('OwnerUserId')['OwnerUserId'].count().sort_values(ascending=False)[:20]"
      ],
      "execution_count": null,
      "outputs": []
    },
    {
      "cell_type": "markdown",
      "metadata": {
        "id": "7h3mfvxV4BQa"
      },
      "source": [
        "#### We perform analysis for Tags.csv"
      ]
    },
    {
      "cell_type": "code",
      "metadata": {
        "colab": {
          "base_uri": "https://localhost:8080/",
          "height": 197
        },
        "id": "gaZk3JgqFwyl",
        "outputId": "8108aefb-f6a2-4053-b427-52ccf625fe76"
      },
      "source": [
        "tags=pd.read_csv(\"https://stack-overflow-casestudy-datasets.s3.amazonaws.com/Tags.csv\",encoding='Latin-1')\n",
        "tags.head()"
      ],
      "execution_count": null,
      "outputs": [
        {
          "output_type": "execute_result",
          "data": {
            "text/html": [
              "<div>\n",
              "<style scoped>\n",
              "    .dataframe tbody tr th:only-of-type {\n",
              "        vertical-align: middle;\n",
              "    }\n",
              "\n",
              "    .dataframe tbody tr th {\n",
              "        vertical-align: top;\n",
              "    }\n",
              "\n",
              "    .dataframe thead th {\n",
              "        text-align: right;\n",
              "    }\n",
              "</style>\n",
              "<table border=\"1\" class=\"dataframe\">\n",
              "  <thead>\n",
              "    <tr style=\"text-align: right;\">\n",
              "      <th></th>\n",
              "      <th>Id</th>\n",
              "      <th>Tag</th>\n",
              "    </tr>\n",
              "  </thead>\n",
              "  <tbody>\n",
              "    <tr>\n",
              "      <th>0</th>\n",
              "      <td>80</td>\n",
              "      <td>flex</td>\n",
              "    </tr>\n",
              "    <tr>\n",
              "      <th>1</th>\n",
              "      <td>80</td>\n",
              "      <td>actionscript-3</td>\n",
              "    </tr>\n",
              "    <tr>\n",
              "      <th>2</th>\n",
              "      <td>80</td>\n",
              "      <td>air</td>\n",
              "    </tr>\n",
              "    <tr>\n",
              "      <th>3</th>\n",
              "      <td>90</td>\n",
              "      <td>svn</td>\n",
              "    </tr>\n",
              "    <tr>\n",
              "      <th>4</th>\n",
              "      <td>90</td>\n",
              "      <td>tortoisesvn</td>\n",
              "    </tr>\n",
              "  </tbody>\n",
              "</table>\n",
              "</div>"
            ],
            "text/plain": [
              "   Id             Tag\n",
              "0  80            flex\n",
              "1  80  actionscript-3\n",
              "2  80             air\n",
              "3  90             svn\n",
              "4  90     tortoisesvn"
            ]
          },
          "metadata": {
            "tags": []
          },
          "execution_count": 25
        }
      ]
    },
    {
      "cell_type": "code",
      "metadata": {
        "colab": {
          "base_uri": "https://localhost:8080/",
          "height": 287
        },
        "id": "LmF6MZfb49vT",
        "outputId": "52afc731-debc-4760-f63d-595e0c5e530a"
      },
      "source": [
        "tags.describe()"
      ],
      "execution_count": null,
      "outputs": [
        {
          "output_type": "execute_result",
          "data": {
            "text/html": [
              "<div>\n",
              "<style scoped>\n",
              "    .dataframe tbody tr th:only-of-type {\n",
              "        vertical-align: middle;\n",
              "    }\n",
              "\n",
              "    .dataframe tbody tr th {\n",
              "        vertical-align: top;\n",
              "    }\n",
              "\n",
              "    .dataframe thead th {\n",
              "        text-align: right;\n",
              "    }\n",
              "</style>\n",
              "<table border=\"1\" class=\"dataframe\">\n",
              "  <thead>\n",
              "    <tr style=\"text-align: right;\">\n",
              "      <th></th>\n",
              "      <th>Id</th>\n",
              "    </tr>\n",
              "  </thead>\n",
              "  <tbody>\n",
              "    <tr>\n",
              "      <th>count</th>\n",
              "      <td>3.750994e+06</td>\n",
              "    </tr>\n",
              "    <tr>\n",
              "      <th>mean</th>\n",
              "      <td>2.148285e+07</td>\n",
              "    </tr>\n",
              "    <tr>\n",
              "      <th>std</th>\n",
              "      <td>1.147246e+07</td>\n",
              "    </tr>\n",
              "    <tr>\n",
              "      <th>min</th>\n",
              "      <td>8.000000e+01</td>\n",
              "    </tr>\n",
              "    <tr>\n",
              "      <th>25%</th>\n",
              "      <td>1.164430e+07</td>\n",
              "    </tr>\n",
              "    <tr>\n",
              "      <th>50%</th>\n",
              "      <td>2.196248e+07</td>\n",
              "    </tr>\n",
              "    <tr>\n",
              "      <th>75%</th>\n",
              "      <td>3.164509e+07</td>\n",
              "    </tr>\n",
              "    <tr>\n",
              "      <th>max</th>\n",
              "      <td>4.014338e+07</td>\n",
              "    </tr>\n",
              "  </tbody>\n",
              "</table>\n",
              "</div>"
            ],
            "text/plain": [
              "                 Id\n",
              "count  3.750994e+06\n",
              "mean   2.148285e+07\n",
              "std    1.147246e+07\n",
              "min    8.000000e+01\n",
              "25%    1.164430e+07\n",
              "50%    2.196248e+07\n",
              "75%    3.164509e+07\n",
              "max    4.014338e+07"
            ]
          },
          "metadata": {
            "tags": []
          },
          "execution_count": 26
        }
      ]
    },
    {
      "cell_type": "code",
      "metadata": {
        "colab": {
          "base_uri": "https://localhost:8080/"
        },
        "id": "duLyq2IO5_xA",
        "outputId": "b6d48822-162b-43db-e0bf-d80c2fc813cb"
      },
      "source": [
        "tags.info()"
      ],
      "execution_count": null,
      "outputs": [
        {
          "output_type": "stream",
          "text": [
            "<class 'pandas.core.frame.DataFrame'>\n",
            "RangeIndex: 3750994 entries, 0 to 3750993\n",
            "Data columns (total 2 columns):\n",
            " #   Column  Dtype \n",
            "---  ------  ----- \n",
            " 0   Id      int64 \n",
            " 1   Tag     object\n",
            "dtypes: int64(1), object(1)\n",
            "memory usage: 57.2+ MB\n"
          ],
          "name": "stdout"
        }
      ]
    },
    {
      "cell_type": "markdown",
      "metadata": {
        "id": "xRoQyPzSD-8Y"
      },
      "source": [
        "*Unique Tag & its count*"
      ]
    },
    {
      "cell_type": "code",
      "metadata": {
        "colab": {
          "base_uri": "https://localhost:8080/"
        },
        "id": "kiQ0um3j6DjU",
        "outputId": "5f5d24b5-f77a-4cc0-e27e-245856bf2e84"
      },
      "source": [
        "tags['Tag'].unique()"
      ],
      "execution_count": null,
      "outputs": [
        {
          "output_type": "execute_result",
          "data": {
            "text/plain": [
              "array(['flex', 'actionscript-3', 'air', ..., 'union-types', 'voce',\n",
              "       'docker-windows'], dtype=object)"
            ]
          },
          "metadata": {
            "tags": []
          },
          "execution_count": 28
        }
      ]
    },
    {
      "cell_type": "code",
      "metadata": {
        "colab": {
          "base_uri": "https://localhost:8080/"
        },
        "id": "P_GS-f6n7M61",
        "outputId": "ef9308a0-7201-4cd7-ef44-f2229648ca70"
      },
      "source": [
        "len(list(tags['Tag'].unique()))"
      ],
      "execution_count": null,
      "outputs": [
        {
          "output_type": "execute_result",
          "data": {
            "text/plain": [
              "37035"
            ]
          },
          "metadata": {
            "tags": []
          },
          "execution_count": 29
        }
      ]
    },
    {
      "cell_type": "markdown",
      "metadata": {
        "id": "-emNu8QbEMLj"
      },
      "source": [
        "*Number of Questions per Tag*"
      ]
    },
    {
      "cell_type": "code",
      "metadata": {
        "colab": {
          "base_uri": "https://localhost:8080/",
          "height": 436
        },
        "id": "tzvWxur3-Jha",
        "outputId": "8ca02795-ac43-4d63-dee6-2b01b9d60025"
      },
      "source": [
        "tags.groupby(by='Tag').count().sort_values(by='Id',ascending=False)"
      ],
      "execution_count": null,
      "outputs": [
        {
          "output_type": "execute_result",
          "data": {
            "text/html": [
              "<div>\n",
              "<style scoped>\n",
              "    .dataframe tbody tr th:only-of-type {\n",
              "        vertical-align: middle;\n",
              "    }\n",
              "\n",
              "    .dataframe tbody tr th {\n",
              "        vertical-align: top;\n",
              "    }\n",
              "\n",
              "    .dataframe thead th {\n",
              "        text-align: right;\n",
              "    }\n",
              "</style>\n",
              "<table border=\"1\" class=\"dataframe\">\n",
              "  <thead>\n",
              "    <tr style=\"text-align: right;\">\n",
              "      <th></th>\n",
              "      <th>Id</th>\n",
              "    </tr>\n",
              "    <tr>\n",
              "      <th>Tag</th>\n",
              "      <th></th>\n",
              "    </tr>\n",
              "  </thead>\n",
              "  <tbody>\n",
              "    <tr>\n",
              "      <th>javascript</th>\n",
              "      <td>124155</td>\n",
              "    </tr>\n",
              "    <tr>\n",
              "      <th>java</th>\n",
              "      <td>115212</td>\n",
              "    </tr>\n",
              "    <tr>\n",
              "      <th>c#</th>\n",
              "      <td>101186</td>\n",
              "    </tr>\n",
              "    <tr>\n",
              "      <th>php</th>\n",
              "      <td>98808</td>\n",
              "    </tr>\n",
              "    <tr>\n",
              "      <th>android</th>\n",
              "      <td>90659</td>\n",
              "    </tr>\n",
              "    <tr>\n",
              "      <th>...</th>\n",
              "      <td>...</td>\n",
              "    </tr>\n",
              "    <tr>\n",
              "      <th>tbcd</th>\n",
              "      <td>1</td>\n",
              "    </tr>\n",
              "    <tr>\n",
              "      <th>evil-dicom</th>\n",
              "      <td>1</td>\n",
              "    </tr>\n",
              "    <tr>\n",
              "      <th>evo</th>\n",
              "      <td>1</td>\n",
              "    </tr>\n",
              "    <tr>\n",
              "      <th>tbar</th>\n",
              "      <td>1</td>\n",
              "    </tr>\n",
              "    <tr>\n",
              "      <th>pjsua2</th>\n",
              "      <td>1</td>\n",
              "    </tr>\n",
              "  </tbody>\n",
              "</table>\n",
              "<p>37034 rows × 1 columns</p>\n",
              "</div>"
            ],
            "text/plain": [
              "                Id\n",
              "Tag               \n",
              "javascript  124155\n",
              "java        115212\n",
              "c#          101186\n",
              "php          98808\n",
              "android      90659\n",
              "...            ...\n",
              "tbcd             1\n",
              "evil-dicom       1\n",
              "evo              1\n",
              "tbar             1\n",
              "pjsua2           1\n",
              "\n",
              "[37034 rows x 1 columns]"
            ]
          },
          "metadata": {
            "tags": []
          },
          "execution_count": 30
        }
      ]
    },
    {
      "cell_type": "code",
      "metadata": {
        "id": "AoUoOWaWCYOf"
      },
      "source": [
        "tagcount=pd.DataFrame(tags.groupby(by='Tag').count().sort_values(by='Id',ascending=False))"
      ],
      "execution_count": null,
      "outputs": []
    },
    {
      "cell_type": "markdown",
      "metadata": {
        "id": "psIQ3dQyDuP1"
      },
      "source": [
        "*Top 25 tags plot as barchart*"
      ]
    },
    {
      "cell_type": "code",
      "metadata": {
        "colab": {
          "base_uri": "https://localhost:8080/",
          "height": 351
        },
        "id": "_VgEMW_FCzqT",
        "outputId": "3d135233-ae05-4342-917d-a3195e84f61f"
      },
      "source": [
        "tagcount[:25].plot.bar()"
      ],
      "execution_count": null,
      "outputs": [
        {
          "output_type": "execute_result",
          "data": {
            "text/plain": [
              "<matplotlib.axes._subplots.AxesSubplot at 0x7f524dd5b910>"
            ]
          },
          "metadata": {
            "tags": []
          },
          "execution_count": 32
        },
        {
          "output_type": "display_data",
          "data": {
            "image/png": "[encoded data removed]",
            "text/plain": [
              "<Figure size 432x288 with 1 Axes>"
            ]
          },
          "metadata": {
            "tags": [],
            "needs_background": "light"
          }
        }
      ]
    },
    {
      "cell_type": "markdown",
      "metadata": {
        "id": "QJfnFeQ5EeKU"
      },
      "source": [
        "Above clearly suggest that javascript is the most tagged followed by java, c#, php, android, jquery, python, html, c++ & ios in top 10"
      ]
    },
    {
      "cell_type": "markdown",
      "metadata": {
        "id": "cOJaby4fEeGm"
      },
      "source": [
        "Find mean, count and standard deviation of Tag via describe & boxplot\n",
        "\n"
      ]
    },
    {
      "cell_type": "code",
      "metadata": {
        "colab": {
          "base_uri": "https://localhost:8080/",
          "height": 287
        },
        "id": "8pzDd_K2L-OZ",
        "outputId": "e892e2eb-1827-4899-f23d-317bb99f2692"
      },
      "source": [
        "tagcount.describe()"
      ],
      "execution_count": null,
      "outputs": [
        {
          "output_type": "execute_result",
          "data": {
            "text/html": [
              "<div>\n",
              "<style scoped>\n",
              "    .dataframe tbody tr th:only-of-type {\n",
              "        vertical-align: middle;\n",
              "    }\n",
              "\n",
              "    .dataframe tbody tr th {\n",
              "        vertical-align: top;\n",
              "    }\n",
              "\n",
              "    .dataframe thead th {\n",
              "        text-align: right;\n",
              "    }\n",
              "</style>\n",
              "<table border=\"1\" class=\"dataframe\">\n",
              "  <thead>\n",
              "    <tr style=\"text-align: right;\">\n",
              "      <th></th>\n",
              "      <th>Id</th>\n",
              "    </tr>\n",
              "  </thead>\n",
              "  <tbody>\n",
              "    <tr>\n",
              "      <th>count</th>\n",
              "      <td>37034.000000</td>\n",
              "    </tr>\n",
              "    <tr>\n",
              "      <th>mean</th>\n",
              "      <td>101.255090</td>\n",
              "    </tr>\n",
              "    <tr>\n",
              "      <th>std</th>\n",
              "      <td>1578.834319</td>\n",
              "    </tr>\n",
              "    <tr>\n",
              "      <th>min</th>\n",
              "      <td>1.000000</td>\n",
              "    </tr>\n",
              "    <tr>\n",
              "      <th>25%</th>\n",
              "      <td>2.000000</td>\n",
              "    </tr>\n",
              "    <tr>\n",
              "      <th>50%</th>\n",
              "      <td>6.000000</td>\n",
              "    </tr>\n",
              "    <tr>\n",
              "      <th>75%</th>\n",
              "      <td>22.000000</td>\n",
              "    </tr>\n",
              "    <tr>\n",
              "      <th>max</th>\n",
              "      <td>124155.000000</td>\n",
              "    </tr>\n",
              "  </tbody>\n",
              "</table>\n",
              "</div>"
            ],
            "text/plain": [
              "                  Id\n",
              "count   37034.000000\n",
              "mean      101.255090\n",
              "std      1578.834319\n",
              "min         1.000000\n",
              "25%         2.000000\n",
              "50%         6.000000\n",
              "75%        22.000000\n",
              "max    124155.000000"
            ]
          },
          "metadata": {
            "tags": []
          },
          "execution_count": 33
        }
      ]
    },
    {
      "cell_type": "code",
      "metadata": {
        "colab": {
          "base_uri": "https://localhost:8080/",
          "height": 406
        },
        "id": "8WenE89EOTHs",
        "outputId": "d21630e6-a798-4f20-adc1-ccbe8d06d6f5"
      },
      "source": [
        "plt.boxplot(tagcount['Id'])"
      ],
      "execution_count": null,
      "outputs": [
        {
          "output_type": "execute_result",
          "data": {
            "text/plain": [
              "{'boxes': [<matplotlib.lines.Line2D at 0x7f522f053f90>],\n",
              " 'caps': [<matplotlib.lines.Line2D at 0x7f522f059fd0>,\n",
              "  <matplotlib.lines.Line2D at 0x7f522f061550>],\n",
              " 'fliers': [<matplotlib.lines.Line2D at 0x7f522f4bc1d0>],\n",
              " 'means': [],\n",
              " 'medians': [<matplotlib.lines.Line2D at 0x7f522f061ad0>],\n",
              " 'whiskers': [<matplotlib.lines.Line2D at 0x7f522f059550>,\n",
              "  <matplotlib.lines.Line2D at 0x7f522f059a90>]}"
            ]
          },
          "metadata": {
            "tags": []
          },
          "execution_count": 34
        },
        {
          "output_type": "display_data",
          "data": {
            "image/png": "[encoded data removed]",
            "text/plain": [
              "<Figure size 432x288 with 1 Axes>"
            ]
          },
          "metadata": {
            "tags": [],
            "needs_background": "light"
          }
        }
      ]
    },
    {
      "cell_type": "markdown",
      "metadata": {
        "id": "z8oizanKNGCz"
      },
      "source": [
        "Above suggest that most of the tags are overrated and are the only ones questioned due to fact that StackOverflow is mostly for Programming languages"
      ]
    },
    {
      "cell_type": "markdown",
      "metadata": {
        "id": "RTUpMeW04pA1"
      },
      "source": [
        "#### *Lastly perform analysis for Users.csv*"
      ]
    },
    {
      "cell_type": "code",
      "metadata": {
        "colab": {
          "base_uri": "https://localhost:8080/",
          "height": 197
        },
        "id": "RSkWbYlbFwiJ",
        "outputId": "cc3beaf1-39e2-408e-db3d-43641e03dbf8"
      },
      "source": [
        "usr=pd.read_csv(\"https://stack-overflow-casestudy-datasets.s3.amazonaws.com/Users.csv\")\n",
        "usr.head()"
      ],
      "execution_count": null,
      "outputs": [
        {
          "output_type": "execute_result",
          "data": {
            "text/html": [
              "<div>\n",
              "<style scoped>\n",
              "    .dataframe tbody tr th:only-of-type {\n",
              "        vertical-align: middle;\n",
              "    }\n",
              "\n",
              "    .dataframe tbody tr th {\n",
              "        vertical-align: top;\n",
              "    }\n",
              "\n",
              "    .dataframe thead th {\n",
              "        text-align: right;\n",
              "    }\n",
              "</style>\n",
              "<table border=\"1\" class=\"dataframe\">\n",
              "  <thead>\n",
              "    <tr style=\"text-align: right;\">\n",
              "      <th></th>\n",
              "      <th>Unnamed: 0</th>\n",
              "      <th>id</th>\n",
              "      <th>display_name</th>\n",
              "      <th>creation_date</th>\n",
              "      <th>last_access_date</th>\n",
              "      <th>reputation</th>\n",
              "      <th>up_votes</th>\n",
              "      <th>down_votes</th>\n",
              "      <th>views</th>\n",
              "    </tr>\n",
              "  </thead>\n",
              "  <tbody>\n",
              "    <tr>\n",
              "      <th>0</th>\n",
              "      <td>0</td>\n",
              "      <td>26</td>\n",
              "      <td>Shawn</td>\n",
              "      <td>2008-08-01 12:18:14.52 UTC</td>\n",
              "      <td>2018-04-11 04:40:35.66 UTC</td>\n",
              "      <td>11820</td>\n",
              "      <td>565</td>\n",
              "      <td>67</td>\n",
              "      <td>3547</td>\n",
              "    </tr>\n",
              "    <tr>\n",
              "      <th>1</th>\n",
              "      <td>1</td>\n",
              "      <td>26</td>\n",
              "      <td>Shawn</td>\n",
              "      <td>2008-08-01 12:18:14.52 UTC</td>\n",
              "      <td>2018-04-11 04:40:35.66 UTC</td>\n",
              "      <td>11820</td>\n",
              "      <td>565</td>\n",
              "      <td>67</td>\n",
              "      <td>3547</td>\n",
              "    </tr>\n",
              "    <tr>\n",
              "      <th>2</th>\n",
              "      <td>2</td>\n",
              "      <td>26</td>\n",
              "      <td>Shawn</td>\n",
              "      <td>2008-08-01 12:18:14.52 UTC</td>\n",
              "      <td>2018-04-11 04:40:35.66 UTC</td>\n",
              "      <td>11820</td>\n",
              "      <td>565</td>\n",
              "      <td>67</td>\n",
              "      <td>3547</td>\n",
              "    </tr>\n",
              "    <tr>\n",
              "      <th>3</th>\n",
              "      <td>3</td>\n",
              "      <td>26</td>\n",
              "      <td>Shawn</td>\n",
              "      <td>2008-08-01 12:18:14.52 UTC</td>\n",
              "      <td>2018-04-11 04:40:35.66 UTC</td>\n",
              "      <td>11820</td>\n",
              "      <td>565</td>\n",
              "      <td>67</td>\n",
              "      <td>3547</td>\n",
              "    </tr>\n",
              "    <tr>\n",
              "      <th>4</th>\n",
              "      <td>4</td>\n",
              "      <td>26</td>\n",
              "      <td>Shawn</td>\n",
              "      <td>2008-08-01 12:18:14.52 UTC</td>\n",
              "      <td>2018-04-11 04:40:35.66 UTC</td>\n",
              "      <td>11820</td>\n",
              "      <td>565</td>\n",
              "      <td>67</td>\n",
              "      <td>3547</td>\n",
              "    </tr>\n",
              "  </tbody>\n",
              "</table>\n",
              "</div>"
            ],
            "text/plain": [
              "   Unnamed: 0  id display_name  ... up_votes down_votes  views\n",
              "0           0  26        Shawn  ...      565         67   3547\n",
              "1           1  26        Shawn  ...      565         67   3547\n",
              "2           2  26        Shawn  ...      565         67   3547\n",
              "3           3  26        Shawn  ...      565         67   3547\n",
              "4           4  26        Shawn  ...      565         67   3547\n",
              "\n",
              "[5 rows x 9 columns]"
            ]
          },
          "metadata": {
            "tags": []
          },
          "execution_count": 35
        }
      ]
    },
    {
      "cell_type": "code",
      "metadata": {
        "colab": {
          "base_uri": "https://localhost:8080/",
          "height": 197
        },
        "id": "md5O4pasLKpT",
        "outputId": "e581574f-807f-43ed-99a4-2b78bdeddefc"
      },
      "source": [
        "usr.drop(columns=\"Unnamed: 0\",inplace=True)\n",
        "usr.head()"
      ],
      "execution_count": null,
      "outputs": [
        {
          "output_type": "execute_result",
          "data": {
            "text/html": [
              "<div>\n",
              "<style scoped>\n",
              "    .dataframe tbody tr th:only-of-type {\n",
              "        vertical-align: middle;\n",
              "    }\n",
              "\n",
              "    .dataframe tbody tr th {\n",
              "        vertical-align: top;\n",
              "    }\n",
              "\n",
              "    .dataframe thead th {\n",
              "        text-align: right;\n",
              "    }\n",
              "</style>\n",
              "<table border=\"1\" class=\"dataframe\">\n",
              "  <thead>\n",
              "    <tr style=\"text-align: right;\">\n",
              "      <th></th>\n",
              "      <th>id</th>\n",
              "      <th>display_name</th>\n",
              "      <th>creation_date</th>\n",
              "      <th>last_access_date</th>\n",
              "      <th>reputation</th>\n",
              "      <th>up_votes</th>\n",
              "      <th>down_votes</th>\n",
              "      <th>views</th>\n",
              "    </tr>\n",
              "  </thead>\n",
              "  <tbody>\n",
              "    <tr>\n",
              "      <th>0</th>\n",
              "      <td>26</td>\n",
              "      <td>Shawn</td>\n",
              "      <td>2008-08-01 12:18:14.52 UTC</td>\n",
              "      <td>2018-04-11 04:40:35.66 UTC</td>\n",
              "      <td>11820</td>\n",
              "      <td>565</td>\n",
              "      <td>67</td>\n",
              "      <td>3547</td>\n",
              "    </tr>\n",
              "    <tr>\n",
              "      <th>1</th>\n",
              "      <td>26</td>\n",
              "      <td>Shawn</td>\n",
              "      <td>2008-08-01 12:18:14.52 UTC</td>\n",
              "      <td>2018-04-11 04:40:35.66 UTC</td>\n",
              "      <td>11820</td>\n",
              "      <td>565</td>\n",
              "      <td>67</td>\n",
              "      <td>3547</td>\n",
              "    </tr>\n",
              "    <tr>\n",
              "      <th>2</th>\n",
              "      <td>26</td>\n",
              "      <td>Shawn</td>\n",
              "      <td>2008-08-01 12:18:14.52 UTC</td>\n",
              "      <td>2018-04-11 04:40:35.66 UTC</td>\n",
              "      <td>11820</td>\n",
              "      <td>565</td>\n",
              "      <td>67</td>\n",
              "      <td>3547</td>\n",
              "    </tr>\n",
              "    <tr>\n",
              "      <th>3</th>\n",
              "      <td>26</td>\n",
              "      <td>Shawn</td>\n",
              "      <td>2008-08-01 12:18:14.52 UTC</td>\n",
              "      <td>2018-04-11 04:40:35.66 UTC</td>\n",
              "      <td>11820</td>\n",
              "      <td>565</td>\n",
              "      <td>67</td>\n",
              "      <td>3547</td>\n",
              "    </tr>\n",
              "    <tr>\n",
              "      <th>4</th>\n",
              "      <td>26</td>\n",
              "      <td>Shawn</td>\n",
              "      <td>2008-08-01 12:18:14.52 UTC</td>\n",
              "      <td>2018-04-11 04:40:35.66 UTC</td>\n",
              "      <td>11820</td>\n",
              "      <td>565</td>\n",
              "      <td>67</td>\n",
              "      <td>3547</td>\n",
              "    </tr>\n",
              "  </tbody>\n",
              "</table>\n",
              "</div>"
            ],
            "text/plain": [
              "   id display_name               creation_date  ... up_votes  down_votes  views\n",
              "0  26        Shawn  2008-08-01 12:18:14.52 UTC  ...      565          67   3547\n",
              "1  26        Shawn  2008-08-01 12:18:14.52 UTC  ...      565          67   3547\n",
              "2  26        Shawn  2008-08-01 12:18:14.52 UTC  ...      565          67   3547\n",
              "3  26        Shawn  2008-08-01 12:18:14.52 UTC  ...      565          67   3547\n",
              "4  26        Shawn  2008-08-01 12:18:14.52 UTC  ...      565          67   3547\n",
              "\n",
              "[5 rows x 8 columns]"
            ]
          },
          "metadata": {
            "tags": []
          },
          "execution_count": 36
        }
      ]
    },
    {
      "cell_type": "code",
      "metadata": {
        "colab": {
          "base_uri": "https://localhost:8080/",
          "height": 197
        },
        "id": "t28VdxLJL2HM",
        "outputId": "259df5d8-cd04-41b1-e9b5-ef27369944fc"
      },
      "source": [
        "usr.drop_duplicates(subset=\"id\",keep=\"first\",inplace=True)\n",
        "usr.head()"
      ],
      "execution_count": null,
      "outputs": [
        {
          "output_type": "execute_result",
          "data": {
            "text/html": [
              "<div>\n",
              "<style scoped>\n",
              "    .dataframe tbody tr th:only-of-type {\n",
              "        vertical-align: middle;\n",
              "    }\n",
              "\n",
              "    .dataframe tbody tr th {\n",
              "        vertical-align: top;\n",
              "    }\n",
              "\n",
              "    .dataframe thead th {\n",
              "        text-align: right;\n",
              "    }\n",
              "</style>\n",
              "<table border=\"1\" class=\"dataframe\">\n",
              "  <thead>\n",
              "    <tr style=\"text-align: right;\">\n",
              "      <th></th>\n",
              "      <th>id</th>\n",
              "      <th>display_name</th>\n",
              "      <th>creation_date</th>\n",
              "      <th>last_access_date</th>\n",
              "      <th>reputation</th>\n",
              "      <th>up_votes</th>\n",
              "      <th>down_votes</th>\n",
              "      <th>views</th>\n",
              "    </tr>\n",
              "  </thead>\n",
              "  <tbody>\n",
              "    <tr>\n",
              "      <th>0</th>\n",
              "      <td>26</td>\n",
              "      <td>Shawn</td>\n",
              "      <td>2008-08-01 12:18:14.52 UTC</td>\n",
              "      <td>2018-04-11 04:40:35.66 UTC</td>\n",
              "      <td>11820</td>\n",
              "      <td>565</td>\n",
              "      <td>67</td>\n",
              "      <td>3547</td>\n",
              "    </tr>\n",
              "    <tr>\n",
              "      <th>27</th>\n",
              "      <td>1109</td>\n",
              "      <td>Theo</td>\n",
              "      <td>2008-08-12 12:16:58.61 UTC</td>\n",
              "      <td>2019-08-31 11:39:52.28 UTC</td>\n",
              "      <td>116072</td>\n",
              "      <td>457</td>\n",
              "      <td>136</td>\n",
              "      <td>6905</td>\n",
              "    </tr>\n",
              "    <tr>\n",
              "      <th>85</th>\n",
              "      <td>364174</td>\n",
              "      <td>stats</td>\n",
              "      <td>2010-06-11 03:34:57.137 UTC</td>\n",
              "      <td>2019-08-29 18:37:35.027 UTC</td>\n",
              "      <td>325</td>\n",
              "      <td>25</td>\n",
              "      <td>1</td>\n",
              "      <td>60</td>\n",
              "    </tr>\n",
              "    <tr>\n",
              "      <th>87</th>\n",
              "      <td>61</td>\n",
              "      <td>Bernard</td>\n",
              "      <td>2008-08-01 14:21:00.573 UTC</td>\n",
              "      <td>2019-08-30 07:11:58.297 UTC</td>\n",
              "      <td>22779</td>\n",
              "      <td>1321</td>\n",
              "      <td>219</td>\n",
              "      <td>1731</td>\n",
              "    </tr>\n",
              "    <tr>\n",
              "      <th>97</th>\n",
              "      <td>20709</td>\n",
              "      <td>Black Horus</td>\n",
              "      <td>2008-09-22 20:03:39.71 UTC</td>\n",
              "      <td>2019-09-01 01:17:38.133 UTC</td>\n",
              "      <td>978</td>\n",
              "      <td>73</td>\n",
              "      <td>2</td>\n",
              "      <td>96</td>\n",
              "    </tr>\n",
              "  </tbody>\n",
              "</table>\n",
              "</div>"
            ],
            "text/plain": [
              "        id display_name  ... down_votes views\n",
              "0       26        Shawn  ...         67  3547\n",
              "27    1109         Theo  ...        136  6905\n",
              "85  364174        stats  ...          1    60\n",
              "87      61      Bernard  ...        219  1731\n",
              "97   20709  Black Horus  ...          2    96\n",
              "\n",
              "[5 rows x 8 columns]"
            ]
          },
          "metadata": {
            "tags": []
          },
          "execution_count": 37
        }
      ]
    },
    {
      "cell_type": "markdown",
      "metadata": {
        "id": "29knjXmNRZ0j"
      },
      "source": [
        "Top 20 users as per reputation"
      ]
    },
    {
      "cell_type": "code",
      "metadata": {
        "colab": {
          "base_uri": "https://localhost:8080/",
          "height": 647
        },
        "id": "kqdCTouFQ016",
        "outputId": "a43c1eb1-e118-4c52-8db0-23e213cbf4c0"
      },
      "source": [
        "usr_sort = usr.sort_values(by=['reputation'],ascending = False)\n",
        "usr_sort[['id','display_name','reputation']][:20]"
      ],
      "execution_count": null,
      "outputs": [
        {
          "output_type": "execute_result",
          "data": {
            "text/html": [
              "<div>\n",
              "<style scoped>\n",
              "    .dataframe tbody tr th:only-of-type {\n",
              "        vertical-align: middle;\n",
              "    }\n",
              "\n",
              "    .dataframe tbody tr th {\n",
              "        vertical-align: top;\n",
              "    }\n",
              "\n",
              "    .dataframe thead th {\n",
              "        text-align: right;\n",
              "    }\n",
              "</style>\n",
              "<table border=\"1\" class=\"dataframe\">\n",
              "  <thead>\n",
              "    <tr style=\"text-align: right;\">\n",
              "      <th></th>\n",
              "      <th>id</th>\n",
              "      <th>display_name</th>\n",
              "      <th>reputation</th>\n",
              "    </tr>\n",
              "  </thead>\n",
              "  <tbody>\n",
              "    <tr>\n",
              "      <th>110999</th>\n",
              "      <td>22656</td>\n",
              "      <td>Jon Skeet</td>\n",
              "      <td>1128126</td>\n",
              "    </tr>\n",
              "    <tr>\n",
              "      <th>35238</th>\n",
              "      <td>6309</td>\n",
              "      <td>VonC</td>\n",
              "      <td>888089</td>\n",
              "    </tr>\n",
              "    <tr>\n",
              "      <th>69941</th>\n",
              "      <td>157882</td>\n",
              "      <td>BalusC</td>\n",
              "      <td>884381</td>\n",
              "    </tr>\n",
              "    <tr>\n",
              "      <th>188604</th>\n",
              "      <td>29407</td>\n",
              "      <td>Darin Dimitrov</td>\n",
              "      <td>873733</td>\n",
              "    </tr>\n",
              "    <tr>\n",
              "      <th>1151850</th>\n",
              "      <td>1144035</td>\n",
              "      <td>Gordon Linoff</td>\n",
              "      <td>851064</td>\n",
              "    </tr>\n",
              "    <tr>\n",
              "      <th>85414</th>\n",
              "      <td>23354</td>\n",
              "      <td>Marc Gravell</td>\n",
              "      <td>818771</td>\n",
              "    </tr>\n",
              "    <tr>\n",
              "      <th>67826</th>\n",
              "      <td>17034</td>\n",
              "      <td>Hans Passant</td>\n",
              "      <td>812298</td>\n",
              "    </tr>\n",
              "    <tr>\n",
              "      <th>337113</th>\n",
              "      <td>115145</td>\n",
              "      <td>CommonsWare</td>\n",
              "      <td>808485</td>\n",
              "    </tr>\n",
              "    <tr>\n",
              "      <th>168856</th>\n",
              "      <td>100297</td>\n",
              "      <td>Martijn Pieters</td>\n",
              "      <td>756582</td>\n",
              "    </tr>\n",
              "    <tr>\n",
              "      <th>407215</th>\n",
              "      <td>157247</td>\n",
              "      <td>T.J. Crowder</td>\n",
              "      <td>732984</td>\n",
              "    </tr>\n",
              "    <tr>\n",
              "      <th>90506</th>\n",
              "      <td>34397</td>\n",
              "      <td>SLaks</td>\n",
              "      <td>714584</td>\n",
              "    </tr>\n",
              "    <tr>\n",
              "      <th>11290</th>\n",
              "      <td>893</td>\n",
              "      <td>Greg Hewgill</td>\n",
              "      <td>706630</td>\n",
              "    </tr>\n",
              "    <tr>\n",
              "      <th>307743</th>\n",
              "      <td>19068</td>\n",
              "      <td>Quentin</td>\n",
              "      <td>684795</td>\n",
              "    </tr>\n",
              "    <tr>\n",
              "      <th>74250</th>\n",
              "      <td>14860</td>\n",
              "      <td>paxdiablo</td>\n",
              "      <td>664917</td>\n",
              "    </tr>\n",
              "    <tr>\n",
              "      <th>305689</th>\n",
              "      <td>95810</td>\n",
              "      <td>Alex Martelli</td>\n",
              "      <td>659267</td>\n",
              "    </tr>\n",
              "    <tr>\n",
              "      <th>1038756</th>\n",
              "      <td>335858</td>\n",
              "      <td>dasblinkenlight</td>\n",
              "      <td>629275</td>\n",
              "    </tr>\n",
              "    <tr>\n",
              "      <th>81558</th>\n",
              "      <td>5445</td>\n",
              "      <td>CMS</td>\n",
              "      <td>626277</td>\n",
              "    </tr>\n",
              "    <tr>\n",
              "      <th>460869</th>\n",
              "      <td>61974</td>\n",
              "      <td>Mark Byers</td>\n",
              "      <td>621770</td>\n",
              "    </tr>\n",
              "    <tr>\n",
              "      <th>155164</th>\n",
              "      <td>20862</td>\n",
              "      <td>Ignacio Vazquez-Abrams</td>\n",
              "      <td>612077</td>\n",
              "    </tr>\n",
              "    <tr>\n",
              "      <th>193718</th>\n",
              "      <td>13302</td>\n",
              "      <td>marc_s</td>\n",
              "      <td>602556</td>\n",
              "    </tr>\n",
              "  </tbody>\n",
              "</table>\n",
              "</div>"
            ],
            "text/plain": [
              "              id            display_name  reputation\n",
              "110999     22656               Jon Skeet     1128126\n",
              "35238       6309                    VonC      888089\n",
              "69941     157882                  BalusC      884381\n",
              "188604     29407          Darin Dimitrov      873733\n",
              "1151850  1144035           Gordon Linoff      851064\n",
              "85414      23354            Marc Gravell      818771\n",
              "67826      17034            Hans Passant      812298\n",
              "337113    115145             CommonsWare      808485\n",
              "168856    100297         Martijn Pieters      756582\n",
              "407215    157247            T.J. Crowder      732984\n",
              "90506      34397                   SLaks      714584\n",
              "11290        893            Greg Hewgill      706630\n",
              "307743     19068                 Quentin      684795\n",
              "74250      14860               paxdiablo      664917\n",
              "305689     95810           Alex Martelli      659267\n",
              "1038756   335858         dasblinkenlight      629275\n",
              "81558       5445                     CMS      626277\n",
              "460869     61974              Mark Byers      621770\n",
              "155164     20862  Ignacio Vazquez-Abrams      612077\n",
              "193718     13302                  marc_s      602556"
            ]
          },
          "metadata": {
            "tags": []
          },
          "execution_count": 38
        }
      ]
    },
    {
      "cell_type": "markdown",
      "metadata": {
        "id": "3xtItzW1VGdk"
      },
      "source": [
        "### *We will now join the datasets based on our requirements of Data Science Tags* i.e. ['python', 'r', 'matlab', 'sas', 'excel', 'sql'] "
      ]
    },
    {
      "cell_type": "code",
      "metadata": {
        "id": "cq9vwrTjVWro"
      },
      "source": [
        "ds_list=['python', 'r', 'matlab', 'sas', 'excel', 'sql']"
      ],
      "execution_count": null,
      "outputs": []
    },
    {
      "cell_type": "code",
      "metadata": {
        "id": "LXuBGLaqXM4u"
      },
      "source": [
        "ds_tags=pd.DataFrame(columns=tags.columns)"
      ],
      "execution_count": null,
      "outputs": []
    },
    {
      "cell_type": "code",
      "metadata": {
        "colab": {
          "base_uri": "https://localhost:8080/",
          "height": 406
        },
        "id": "ZFGugkmsY7TW",
        "outputId": "ad49d842-4f5b-4c30-8afb-6b7915491b21"
      },
      "source": [
        "tags[tags.Tag=='python']"
      ],
      "execution_count": null,
      "outputs": [
        {
          "output_type": "execute_result",
          "data": {
            "text/html": [
              "<div>\n",
              "<style scoped>\n",
              "    .dataframe tbody tr th:only-of-type {\n",
              "        vertical-align: middle;\n",
              "    }\n",
              "\n",
              "    .dataframe tbody tr th {\n",
              "        vertical-align: top;\n",
              "    }\n",
              "\n",
              "    .dataframe thead th {\n",
              "        text-align: right;\n",
              "    }\n",
              "</style>\n",
              "<table border=\"1\" class=\"dataframe\">\n",
              "  <thead>\n",
              "    <tr style=\"text-align: right;\">\n",
              "      <th></th>\n",
              "      <th>Id</th>\n",
              "      <th>Tag</th>\n",
              "    </tr>\n",
              "  </thead>\n",
              "  <tbody>\n",
              "    <tr>\n",
              "      <th>312</th>\n",
              "      <td>11060</td>\n",
              "      <td>python</td>\n",
              "    </tr>\n",
              "    <tr>\n",
              "      <th>503</th>\n",
              "      <td>17250</td>\n",
              "      <td>python</td>\n",
              "    </tr>\n",
              "    <tr>\n",
              "      <th>546</th>\n",
              "      <td>19030</td>\n",
              "      <td>python</td>\n",
              "    </tr>\n",
              "    <tr>\n",
              "      <th>905</th>\n",
              "      <td>31340</td>\n",
              "      <td>python</td>\n",
              "    </tr>\n",
              "    <tr>\n",
              "      <th>1027</th>\n",
              "      <td>34020</td>\n",
              "      <td>python</td>\n",
              "    </tr>\n",
              "    <tr>\n",
              "      <th>...</th>\n",
              "      <td>...</td>\n",
              "      <td>...</td>\n",
              "    </tr>\n",
              "    <tr>\n",
              "      <th>3750788</th>\n",
              "      <td>40141710</td>\n",
              "      <td>python</td>\n",
              "    </tr>\n",
              "    <tr>\n",
              "      <th>3750886</th>\n",
              "      <td>40142380</td>\n",
              "      <td>python</td>\n",
              "    </tr>\n",
              "    <tr>\n",
              "      <th>3750921</th>\n",
              "      <td>40142600</td>\n",
              "      <td>python</td>\n",
              "    </tr>\n",
              "    <tr>\n",
              "      <th>3750940</th>\n",
              "      <td>40142840</td>\n",
              "      <td>python</td>\n",
              "    </tr>\n",
              "    <tr>\n",
              "      <th>3750981</th>\n",
              "      <td>40143190</td>\n",
              "      <td>python</td>\n",
              "    </tr>\n",
              "  </tbody>\n",
              "</table>\n",
              "<p>64601 rows × 2 columns</p>\n",
              "</div>"
            ],
            "text/plain": [
              "               Id     Tag\n",
              "312         11060  python\n",
              "503         17250  python\n",
              "546         19030  python\n",
              "905         31340  python\n",
              "1027        34020  python\n",
              "...           ...     ...\n",
              "3750788  40141710  python\n",
              "3750886  40142380  python\n",
              "3750921  40142600  python\n",
              "3750940  40142840  python\n",
              "3750981  40143190  python\n",
              "\n",
              "[64601 rows x 2 columns]"
            ]
          },
          "metadata": {
            "tags": []
          },
          "execution_count": 41
        }
      ]
    },
    {
      "cell_type": "code",
      "metadata": {
        "colab": {
          "base_uri": "https://localhost:8080/",
          "height": 347
        },
        "id": "TruFsB8oXwSO",
        "outputId": "3c08881e-1f42-48a3-e3d5-3a38365b8a34"
      },
      "source": [
        "for i in ds_list:\n",
        "  ds_tags=ds_tags.append(tags[tags.Tag==i],ignore_index=True)\n",
        "ds_tags.head(10)"
      ],
      "execution_count": null,
      "outputs": [
        {
          "output_type": "execute_result",
          "data": {
            "text/html": [
              "<div>\n",
              "<style scoped>\n",
              "    .dataframe tbody tr th:only-of-type {\n",
              "        vertical-align: middle;\n",
              "    }\n",
              "\n",
              "    .dataframe tbody tr th {\n",
              "        vertical-align: top;\n",
              "    }\n",
              "\n",
              "    .dataframe thead th {\n",
              "        text-align: right;\n",
              "    }\n",
              "</style>\n",
              "<table border=\"1\" class=\"dataframe\">\n",
              "  <thead>\n",
              "    <tr style=\"text-align: right;\">\n",
              "      <th></th>\n",
              "      <th>Id</th>\n",
              "      <th>Tag</th>\n",
              "    </tr>\n",
              "  </thead>\n",
              "  <tbody>\n",
              "    <tr>\n",
              "      <th>0</th>\n",
              "      <td>11060</td>\n",
              "      <td>python</td>\n",
              "    </tr>\n",
              "    <tr>\n",
              "      <th>1</th>\n",
              "      <td>17250</td>\n",
              "      <td>python</td>\n",
              "    </tr>\n",
              "    <tr>\n",
              "      <th>2</th>\n",
              "      <td>19030</td>\n",
              "      <td>python</td>\n",
              "    </tr>\n",
              "    <tr>\n",
              "      <th>3</th>\n",
              "      <td>31340</td>\n",
              "      <td>python</td>\n",
              "    </tr>\n",
              "    <tr>\n",
              "      <th>4</th>\n",
              "      <td>34020</td>\n",
              "      <td>python</td>\n",
              "    </tr>\n",
              "    <tr>\n",
              "      <th>5</th>\n",
              "      <td>34570</td>\n",
              "      <td>python</td>\n",
              "    </tr>\n",
              "    <tr>\n",
              "      <th>6</th>\n",
              "      <td>35470</td>\n",
              "      <td>python</td>\n",
              "    </tr>\n",
              "    <tr>\n",
              "      <th>7</th>\n",
              "      <td>39960</td>\n",
              "      <td>python</td>\n",
              "    </tr>\n",
              "    <tr>\n",
              "      <th>8</th>\n",
              "      <td>42950</td>\n",
              "      <td>python</td>\n",
              "    </tr>\n",
              "    <tr>\n",
              "      <th>9</th>\n",
              "      <td>43290</td>\n",
              "      <td>python</td>\n",
              "    </tr>\n",
              "  </tbody>\n",
              "</table>\n",
              "</div>"
            ],
            "text/plain": [
              "      Id     Tag\n",
              "0  11060  python\n",
              "1  17250  python\n",
              "2  19030  python\n",
              "3  31340  python\n",
              "4  34020  python\n",
              "5  34570  python\n",
              "6  35470  python\n",
              "7  39960  python\n",
              "8  42950  python\n",
              "9  43290  python"
            ]
          },
          "metadata": {
            "tags": []
          },
          "execution_count": 42
        }
      ]
    },
    {
      "cell_type": "markdown",
      "metadata": {
        "id": "eOT-OHI3eOMv"
      },
      "source": [
        "*Subplot of DataScience Tags*"
      ]
    },
    {
      "cell_type": "code",
      "metadata": {
        "colab": {
          "base_uri": "https://localhost:8080/",
          "height": 322
        },
        "id": "K2r_T6Ckd9Iv",
        "outputId": "f500fb6b-dedd-4ff2-d1bb-de333357b206"
      },
      "source": [
        "ds_tags.groupby(by='Tag').count().sort_values(by='Id',ascending=False).plot.bar()"
      ],
      "execution_count": null,
      "outputs": [
        {
          "output_type": "execute_result",
          "data": {
            "text/plain": [
              "<matplotlib.axes._subplots.AxesSubplot at 0x7f522f032510>"
            ]
          },
          "metadata": {
            "tags": []
          },
          "execution_count": 43
        },
        {
          "output_type": "display_data",
          "data": {
            "image/png": "[encoded data removed]",
            "text/plain": [
              "<Figure size 432x288 with 1 Axes>"
            ]
          },
          "metadata": {
            "tags": [],
            "needs_background": "light"
          }
        }
      ]
    },
    {
      "cell_type": "markdown",
      "metadata": {
        "id": "Op7HIxlKjiqg"
      },
      "source": [
        "*Questions related to DataScience*"
      ]
    },
    {
      "cell_type": "code",
      "metadata": {
        "colab": {
          "base_uri": "https://localhost:8080/",
          "height": 647
        },
        "id": "ZyxAV9dyegj0",
        "outputId": "1f001ab3-fbdf-4756-e66b-b4a6bbd9886a"
      },
      "source": [
        "qs_ds_tags=pd.merge(qs,ds_tags,on='Id',how='inner')\n",
        "qs_ds_tags.head(20)"
      ],
      "execution_count": null,
      "outputs": [
        {
          "output_type": "execute_result",
          "data": {
            "text/html": [
              "<div>\n",
              "<style scoped>\n",
              "    .dataframe tbody tr th:only-of-type {\n",
              "        vertical-align: middle;\n",
              "    }\n",
              "\n",
              "    .dataframe tbody tr th {\n",
              "        vertical-align: top;\n",
              "    }\n",
              "\n",
              "    .dataframe thead th {\n",
              "        text-align: right;\n",
              "    }\n",
              "</style>\n",
              "<table border=\"1\" class=\"dataframe\">\n",
              "  <thead>\n",
              "    <tr style=\"text-align: right;\">\n",
              "      <th></th>\n",
              "      <th>Id</th>\n",
              "      <th>OwnerUserId</th>\n",
              "      <th>CreationDate</th>\n",
              "      <th>ClosedDate</th>\n",
              "      <th>Score</th>\n",
              "      <th>Title</th>\n",
              "      <th>Body</th>\n",
              "      <th>Tag</th>\n",
              "    </tr>\n",
              "  </thead>\n",
              "  <tbody>\n",
              "    <tr>\n",
              "      <th>0</th>\n",
              "      <td>120</td>\n",
              "      <td>83</td>\n",
              "      <td>2008-08-01T15:50:08Z</td>\n",
              "      <td>NaN</td>\n",
              "      <td>21</td>\n",
              "      <td>ASP.NET Site Maps</td>\n",
              "      <td>&lt;p&gt;Has anyone got experience creating &lt;strong&gt;...</td>\n",
              "      <td>sql</td>\n",
              "    </tr>\n",
              "    <tr>\n",
              "      <th>1</th>\n",
              "      <td>1970</td>\n",
              "      <td>116</td>\n",
              "      <td>2008-08-05T06:39:31Z</td>\n",
              "      <td>NaN</td>\n",
              "      <td>10</td>\n",
              "      <td>What language do you use for PostgreSQL trigge...</td>\n",
              "      <td>&lt;p&gt;PostgreSQL is interesting in that it suppor...</td>\n",
              "      <td>sql</td>\n",
              "    </tr>\n",
              "    <tr>\n",
              "      <th>2</th>\n",
              "      <td>2120</td>\n",
              "      <td>383</td>\n",
              "      <td>2008-08-05T11:49:11Z</td>\n",
              "      <td>NaN</td>\n",
              "      <td>77</td>\n",
              "      <td>Convert HashBytes to VarChar</td>\n",
              "      <td>&lt;p&gt;I want to get the MD5 Hash of a string valu...</td>\n",
              "      <td>sql</td>\n",
              "    </tr>\n",
              "    <tr>\n",
              "      <th>3</th>\n",
              "      <td>2840</td>\n",
              "      <td>383</td>\n",
              "      <td>2008-08-05T20:57:00Z</td>\n",
              "      <td>NaN</td>\n",
              "      <td>32</td>\n",
              "      <td>Paging SQL Server 2005 Results</td>\n",
              "      <td>&lt;p&gt;How do I page results in SQL Server 2005?&lt;/...</td>\n",
              "      <td>sql</td>\n",
              "    </tr>\n",
              "    <tr>\n",
              "      <th>4</th>\n",
              "      <td>4110</td>\n",
              "      <td>369</td>\n",
              "      <td>2008-08-06T23:19:50Z</td>\n",
              "      <td>2014-12-30T11:43:01Z</td>\n",
              "      <td>7</td>\n",
              "      <td>What program can I use to generate diagrams of...</td>\n",
              "      <td>&lt;p&gt;I've been tasked with redesigning part of a...</td>\n",
              "      <td>sql</td>\n",
              "    </tr>\n",
              "    <tr>\n",
              "      <th>5</th>\n",
              "      <td>6340</td>\n",
              "      <td>58</td>\n",
              "      <td>2008-08-08T20:07:43Z</td>\n",
              "      <td>NaN</td>\n",
              "      <td>10</td>\n",
              "      <td>Multiple foreign keys?</td>\n",
              "      <td>&lt;p&gt;I've got a table that is supposed to track ...</td>\n",
              "      <td>sql</td>\n",
              "    </tr>\n",
              "    <tr>\n",
              "      <th>6</th>\n",
              "      <td>10190</td>\n",
              "      <td>373</td>\n",
              "      <td>2008-08-13T18:38:02Z</td>\n",
              "      <td>NaN</td>\n",
              "      <td>10</td>\n",
              "      <td>How to return a page of results from SQL?</td>\n",
              "      <td>&lt;p&gt;Many applications have grids that display d...</td>\n",
              "      <td>sql</td>\n",
              "    </tr>\n",
              "    <tr>\n",
              "      <th>7</th>\n",
              "      <td>11060</td>\n",
              "      <td>912</td>\n",
              "      <td>2008-08-14T13:59:21Z</td>\n",
              "      <td>NaN</td>\n",
              "      <td>18</td>\n",
              "      <td>How should I unit test a code-generator?</td>\n",
              "      <td>&lt;p&gt;This is a difficult and open-ended question...</td>\n",
              "      <td>python</td>\n",
              "    </tr>\n",
              "    <tr>\n",
              "      <th>8</th>\n",
              "      <td>13540</td>\n",
              "      <td>1463</td>\n",
              "      <td>2008-08-17T06:48:50Z</td>\n",
              "      <td>NaN</td>\n",
              "      <td>83</td>\n",
              "      <td>Insert Update stored proc on SQL Server</td>\n",
              "      <td>&lt;p&gt;I've written a stored proc that will do an ...</td>\n",
              "      <td>sql</td>\n",
              "    </tr>\n",
              "    <tr>\n",
              "      <th>9</th>\n",
              "      <td>17250</td>\n",
              "      <td>394</td>\n",
              "      <td>2008-08-20T00:16:40Z</td>\n",
              "      <td>NaN</td>\n",
              "      <td>24</td>\n",
              "      <td>Create an encrypted ZIP file in Python</td>\n",
              "      <td>&lt;p&gt;I'm creating an ZIP file with ZipFile in Py...</td>\n",
              "      <td>python</td>\n",
              "    </tr>\n",
              "    <tr>\n",
              "      <th>10</th>\n",
              "      <td>19030</td>\n",
              "      <td>745</td>\n",
              "      <td>2008-08-20T22:50:55Z</td>\n",
              "      <td>NaN</td>\n",
              "      <td>2</td>\n",
              "      <td>How to check set of files conform to a naming ...</td>\n",
              "      <td>&lt;p&gt;I have a bunch of files (TV episodes, altho...</td>\n",
              "      <td>python</td>\n",
              "    </tr>\n",
              "    <tr>\n",
              "      <th>11</th>\n",
              "      <td>20840</td>\n",
              "      <td>357</td>\n",
              "      <td>2008-08-21T19:12:59Z</td>\n",
              "      <td>NaN</td>\n",
              "      <td>5</td>\n",
              "      <td>SQL Server - Dirty Reads Pros &amp; Cons</td>\n",
              "      <td>&lt;p&gt;Why should I or shouldn't I use dirty reads...</td>\n",
              "      <td>sql</td>\n",
              "    </tr>\n",
              "    <tr>\n",
              "      <th>12</th>\n",
              "      <td>21280</td>\n",
              "      <td>2147</td>\n",
              "      <td>2008-08-21T21:54:56Z</td>\n",
              "      <td>NaN</td>\n",
              "      <td>20</td>\n",
              "      <td>Am I missing something about LINQ?</td>\n",
              "      <td>&lt;p&gt;I seem to be missing something about LINQ. ...</td>\n",
              "      <td>sql</td>\n",
              "    </tr>\n",
              "    <tr>\n",
              "      <th>13</th>\n",
              "      <td>22570</td>\n",
              "      <td>1219</td>\n",
              "      <td>2008-08-22T14:53:47Z</td>\n",
              "      <td>NaN</td>\n",
              "      <td>9</td>\n",
              "      <td>What's a good way to check if two datetimes ar...</td>\n",
              "      <td>&lt;p&gt;Here is the issue I am having: I have a lar...</td>\n",
              "      <td>sql</td>\n",
              "    </tr>\n",
              "    <tr>\n",
              "      <th>14</th>\n",
              "      <td>24200</td>\n",
              "      <td>1948</td>\n",
              "      <td>2008-08-23T12:53:09Z</td>\n",
              "      <td>NaN</td>\n",
              "      <td>50</td>\n",
              "      <td>What's the fastest way to bulk insert a lot of...</td>\n",
              "      <td>&lt;p&gt;I am hitting some performance bottlenecks w...</td>\n",
              "      <td>sql</td>\n",
              "    </tr>\n",
              "    <tr>\n",
              "      <th>15</th>\n",
              "      <td>25460</td>\n",
              "      <td>1704</td>\n",
              "      <td>2008-08-24T23:43:00Z</td>\n",
              "      <td>NaN</td>\n",
              "      <td>5</td>\n",
              "      <td>Asynchronous Stored Procedure Calls</td>\n",
              "      <td>&lt;p&gt;Is it possible to call a stored prodcedure ...</td>\n",
              "      <td>sql</td>\n",
              "    </tr>\n",
              "    <tr>\n",
              "      <th>16</th>\n",
              "      <td>27020</td>\n",
              "      <td>2798</td>\n",
              "      <td>2008-08-25T22:11:30Z</td>\n",
              "      <td>NaN</td>\n",
              "      <td>9</td>\n",
              "      <td>Alternating coloring groups of rows in Excel</td>\n",
              "      <td>&lt;p&gt;I have an Excel Spreadsheet like this&lt;/p&gt;\\n...</td>\n",
              "      <td>excel</td>\n",
              "    </tr>\n",
              "    <tr>\n",
              "      <th>17</th>\n",
              "      <td>28280</td>\n",
              "      <td>2187</td>\n",
              "      <td>2008-08-26T15:01:50Z</td>\n",
              "      <td>NaN</td>\n",
              "      <td>1</td>\n",
              "      <td>Can I maintain state between calls to a SQL Se...</td>\n",
              "      <td>&lt;p&gt;I have a SQL script that inserts data (via ...</td>\n",
              "      <td>sql</td>\n",
              "    </tr>\n",
              "    <tr>\n",
              "      <th>18</th>\n",
              "      <td>29040</td>\n",
              "      <td>2385</td>\n",
              "      <td>2008-08-26T21:55:09Z</td>\n",
              "      <td>NaN</td>\n",
              "      <td>1</td>\n",
              "      <td>Linq To SQL: Can I eager load only one field i...</td>\n",
              "      <td>&lt;p&gt;I have one table \"orders\" with a foreing ke...</td>\n",
              "      <td>sql</td>\n",
              "    </tr>\n",
              "    <tr>\n",
              "      <th>19</th>\n",
              "      <td>29630</td>\n",
              "      <td>2665</td>\n",
              "      <td>2008-08-27T06:40:13Z</td>\n",
              "      <td>NaN</td>\n",
              "      <td>3</td>\n",
              "      <td>What is the best way to package and distribute...</td>\n",
              "      <td>&lt;p&gt;I've writen an Excel-based, database report...</td>\n",
              "      <td>excel</td>\n",
              "    </tr>\n",
              "  </tbody>\n",
              "</table>\n",
              "</div>"
            ],
            "text/plain": [
              "       Id  ...     Tag\n",
              "0     120  ...     sql\n",
              "1    1970  ...     sql\n",
              "2    2120  ...     sql\n",
              "3    2840  ...     sql\n",
              "4    4110  ...     sql\n",
              "5    6340  ...     sql\n",
              "6   10190  ...     sql\n",
              "7   11060  ...  python\n",
              "8   13540  ...     sql\n",
              "9   17250  ...  python\n",
              "10  19030  ...  python\n",
              "11  20840  ...     sql\n",
              "12  21280  ...     sql\n",
              "13  22570  ...     sql\n",
              "14  24200  ...     sql\n",
              "15  25460  ...     sql\n",
              "16  27020  ...   excel\n",
              "17  28280  ...     sql\n",
              "18  29040  ...     sql\n",
              "19  29630  ...   excel\n",
              "\n",
              "[20 rows x 8 columns]"
            ]
          },
          "metadata": {
            "tags": []
          },
          "execution_count": 44
        }
      ]
    },
    {
      "cell_type": "code",
      "metadata": {
        "colab": {
          "base_uri": "https://localhost:8080/"
        },
        "id": "8fraOGAyi4V3",
        "outputId": "30f6b84c-943d-4576-d4fe-8a2ace6e3fe3"
      },
      "source": [
        "qs_ds_tags.shape"
      ],
      "execution_count": null,
      "outputs": [
        {
          "output_type": "execute_result",
          "data": {
            "text/plain": [
              "(133660, 8)"
            ]
          },
          "metadata": {
            "tags": []
          },
          "execution_count": 45
        }
      ]
    },
    {
      "cell_type": "markdown",
      "metadata": {
        "id": "fTOCgU4XjB32"
      },
      "source": [
        "There are total 133660 questions related to DataScience as per tags asked by users."
      ]
    },
    {
      "cell_type": "markdown",
      "metadata": {
        "id": "nicbk_97j9Ng"
      },
      "source": [
        "*Users who questioned Data Science related tags (random 25 users)*"
      ]
    },
    {
      "cell_type": "code",
      "metadata": {
        "colab": {
          "base_uri": "https://localhost:8080/"
        },
        "id": "fm_LtWl1kSuq",
        "outputId": "5836cf00-6d65-4b3e-b8ac-2bc116348061"
      },
      "source": [
        "usr_list_ds_tags=list()\n",
        "for i in qs_ds_tags.OwnerUserId.unique()[:25]:\n",
        "  usr_list_ds_tags.append(list(usr['display_name'][usr.id==i]))\n",
        "usr_list_ds_tags"
      ],
      "execution_count": null,
      "outputs": [
        {
          "output_type": "execute_result",
          "data": {
            "text/plain": [
              "[['Zack Peterson'],\n",
              " ['Mark Harrison'],\n",
              " ['GateKiller'],\n",
              " ['Blorgbeard'],\n",
              " ['cmcculloh'],\n",
              " ['urini'],\n",
              " ['jkp'],\n",
              " ['Guy'],\n",
              " ['PabloG'],\n",
              " ['dbr'],\n",
              " ['Seibar'],\n",
              " ['Jason Baker'],\n",
              " ['Eric Z Beard'],\n",
              " [],\n",
              " [],\n",
              " [],\n",
              " ['Jason Diller'],\n",
              " ['Eduardo Molteni'],\n",
              " ['JonnyGold'],\n",
              " ['jeremiahd'],\n",
              " ['lomaxx'],\n",
              " ['Brian Warshaw'],\n",
              " ['Niyaz'],\n",
              " [],\n",
              " ['Tyler']]"
            ]
          },
          "metadata": {
            "tags": []
          },
          "execution_count": 46
        }
      ]
    },
    {
      "cell_type": "code",
      "metadata": {
        "colab": {
          "base_uri": "https://localhost:8080/",
          "height": 1000
        },
        "id": "3nGzdk6RpS7e",
        "outputId": "068945a5-0e6b-43ca-8876-f919aebc6a3d"
      },
      "source": [
        "usr_ds_tags=pd.DataFrame()\n",
        "usr_ds_tags=pd.merge(qs_ds_tags,usr,how='inner',left_on='OwnerUserId',right_on='id')\n",
        "usr_ds_tags.head(20)"
      ],
      "execution_count": null,
      "outputs": [
        {
          "output_type": "execute_result",
          "data": {
            "text/html": [
              "<div>\n",
              "<style scoped>\n",
              "    .dataframe tbody tr th:only-of-type {\n",
              "        vertical-align: middle;\n",
              "    }\n",
              "\n",
              "    .dataframe tbody tr th {\n",
              "        vertical-align: top;\n",
              "    }\n",
              "\n",
              "    .dataframe thead th {\n",
              "        text-align: right;\n",
              "    }\n",
              "</style>\n",
              "<table border=\"1\" class=\"dataframe\">\n",
              "  <thead>\n",
              "    <tr style=\"text-align: right;\">\n",
              "      <th></th>\n",
              "      <th>Id</th>\n",
              "      <th>OwnerUserId</th>\n",
              "      <th>CreationDate</th>\n",
              "      <th>ClosedDate</th>\n",
              "      <th>Score</th>\n",
              "      <th>Title</th>\n",
              "      <th>Body</th>\n",
              "      <th>Tag</th>\n",
              "      <th>id</th>\n",
              "      <th>display_name</th>\n",
              "      <th>creation_date</th>\n",
              "      <th>last_access_date</th>\n",
              "      <th>reputation</th>\n",
              "      <th>up_votes</th>\n",
              "      <th>down_votes</th>\n",
              "      <th>views</th>\n",
              "    </tr>\n",
              "  </thead>\n",
              "  <tbody>\n",
              "    <tr>\n",
              "      <th>0</th>\n",
              "      <td>120</td>\n",
              "      <td>83</td>\n",
              "      <td>2008-08-01T15:50:08Z</td>\n",
              "      <td>NaN</td>\n",
              "      <td>21</td>\n",
              "      <td>ASP.NET Site Maps</td>\n",
              "      <td>&lt;p&gt;Has anyone got experience creating &lt;strong&gt;...</td>\n",
              "      <td>sql</td>\n",
              "      <td>83</td>\n",
              "      <td>Zack Peterson</td>\n",
              "      <td>2008-08-01 16:31:56.94 UTC</td>\n",
              "      <td>2019-08-27 20:25:33.09 UTC</td>\n",
              "      <td>31853</td>\n",
              "      <td>1966</td>\n",
              "      <td>63</td>\n",
              "      <td>2886</td>\n",
              "    </tr>\n",
              "    <tr>\n",
              "      <th>1</th>\n",
              "      <td>1970</td>\n",
              "      <td>116</td>\n",
              "      <td>2008-08-05T06:39:31Z</td>\n",
              "      <td>NaN</td>\n",
              "      <td>10</td>\n",
              "      <td>What language do you use for PostgreSQL trigge...</td>\n",
              "      <td>&lt;p&gt;PostgreSQL is interesting in that it suppor...</td>\n",
              "      <td>sql</td>\n",
              "      <td>116</td>\n",
              "      <td>Mark Harrison</td>\n",
              "      <td>2008-08-02 05:51:57.153 UTC</td>\n",
              "      <td>2019-09-01 02:39:46.78 UTC</td>\n",
              "      <td>181436</td>\n",
              "      <td>2537</td>\n",
              "      <td>39</td>\n",
              "      <td>19386</td>\n",
              "    </tr>\n",
              "    <tr>\n",
              "      <th>2</th>\n",
              "      <td>998950</td>\n",
              "      <td>116</td>\n",
              "      <td>2009-06-15T23:28:31Z</td>\n",
              "      <td>NaN</td>\n",
              "      <td>9</td>\n",
              "      <td>Is &amp;#x10; a valid character in XML?</td>\n",
              "      <td>&lt;p&gt;On this data:&lt;/p&gt;\\n\\n&lt;pre&gt;&lt;code&gt;&amp;lt;row Id=...</td>\n",
              "      <td>python</td>\n",
              "      <td>116</td>\n",
              "      <td>Mark Harrison</td>\n",
              "      <td>2008-08-02 05:51:57.153 UTC</td>\n",
              "      <td>2019-09-01 02:39:46.78 UTC</td>\n",
              "      <td>181436</td>\n",
              "      <td>2537</td>\n",
              "      <td>39</td>\n",
              "      <td>19386</td>\n",
              "    </tr>\n",
              "    <tr>\n",
              "      <th>3</th>\n",
              "      <td>1101390</td>\n",
              "      <td>116</td>\n",
              "      <td>2009-07-09T01:26:39Z</td>\n",
              "      <td>NaN</td>\n",
              "      <td>6</td>\n",
              "      <td>Oracle SQL Developer: sharing configuration vi...</td>\n",
              "      <td>&lt;p&gt;I would like to share my Oracle SQL Develop...</td>\n",
              "      <td>sql</td>\n",
              "      <td>116</td>\n",
              "      <td>Mark Harrison</td>\n",
              "      <td>2008-08-02 05:51:57.153 UTC</td>\n",
              "      <td>2019-09-01 02:39:46.78 UTC</td>\n",
              "      <td>181436</td>\n",
              "      <td>2537</td>\n",
              "      <td>39</td>\n",
              "      <td>19386</td>\n",
              "    </tr>\n",
              "    <tr>\n",
              "      <th>4</th>\n",
              "      <td>2169720</td>\n",
              "      <td>116</td>\n",
              "      <td>2010-01-30T22:33:02Z</td>\n",
              "      <td>NaN</td>\n",
              "      <td>4</td>\n",
              "      <td>Oracle: pivot (coalesce) some counts onto a si...</td>\n",
              "      <td>&lt;p&gt;&lt;strong&gt;update: what I was calling &lt;em&gt;coal...</td>\n",
              "      <td>sql</td>\n",
              "      <td>116</td>\n",
              "      <td>Mark Harrison</td>\n",
              "      <td>2008-08-02 05:51:57.153 UTC</td>\n",
              "      <td>2019-09-01 02:39:46.78 UTC</td>\n",
              "      <td>181436</td>\n",
              "      <td>2537</td>\n",
              "      <td>39</td>\n",
              "      <td>19386</td>\n",
              "    </tr>\n",
              "    <tr>\n",
              "      <th>5</th>\n",
              "      <td>2483140</td>\n",
              "      <td>116</td>\n",
              "      <td>2010-03-20T13:17:46Z</td>\n",
              "      <td>NaN</td>\n",
              "      <td>19</td>\n",
              "      <td>Oracle: how to \"group by\" over a range?</td>\n",
              "      <td>&lt;p&gt;If I have a table like this:&lt;/p&gt;\\n\\n&lt;pre&gt;&lt;c...</td>\n",
              "      <td>sql</td>\n",
              "      <td>116</td>\n",
              "      <td>Mark Harrison</td>\n",
              "      <td>2008-08-02 05:51:57.153 UTC</td>\n",
              "      <td>2019-09-01 02:39:46.78 UTC</td>\n",
              "      <td>181436</td>\n",
              "      <td>2537</td>\n",
              "      <td>39</td>\n",
              "      <td>19386</td>\n",
              "    </tr>\n",
              "    <tr>\n",
              "      <th>6</th>\n",
              "      <td>2616190</td>\n",
              "      <td>116</td>\n",
              "      <td>2010-04-11T06:01:58Z</td>\n",
              "      <td>NaN</td>\n",
              "      <td>2</td>\n",
              "      <td>Python: what package contains the installation...</td>\n",
              "      <td>&lt;p&gt;e.g., how can I find out that the executabl...</td>\n",
              "      <td>python</td>\n",
              "      <td>116</td>\n",
              "      <td>Mark Harrison</td>\n",
              "      <td>2008-08-02 05:51:57.153 UTC</td>\n",
              "      <td>2019-09-01 02:39:46.78 UTC</td>\n",
              "      <td>181436</td>\n",
              "      <td>2537</td>\n",
              "      <td>39</td>\n",
              "      <td>19386</td>\n",
              "    </tr>\n",
              "    <tr>\n",
              "      <th>7</th>\n",
              "      <td>3570720</td>\n",
              "      <td>116</td>\n",
              "      <td>2010-08-25T22:27:07Z</td>\n",
              "      <td>NaN</td>\n",
              "      <td>2</td>\n",
              "      <td>Excel: using a worksheet as a function?</td>\n",
              "      <td>&lt;p&gt;I've got an excel worksheet that takes two ...</td>\n",
              "      <td>excel</td>\n",
              "      <td>116</td>\n",
              "      <td>Mark Harrison</td>\n",
              "      <td>2008-08-02 05:51:57.153 UTC</td>\n",
              "      <td>2019-09-01 02:39:46.78 UTC</td>\n",
              "      <td>181436</td>\n",
              "      <td>2537</td>\n",
              "      <td>39</td>\n",
              "      <td>19386</td>\n",
              "    </tr>\n",
              "    <tr>\n",
              "      <th>8</th>\n",
              "      <td>9407640</td>\n",
              "      <td>116</td>\n",
              "      <td>2012-02-23T05:23:12Z</td>\n",
              "      <td>NaN</td>\n",
              "      <td>6</td>\n",
              "      <td>Python: eval() that coerces values to floating...</td>\n",
              "      <td>&lt;p&gt;Is there a way to execute an &lt;code&gt;eval&lt;/co...</td>\n",
              "      <td>python</td>\n",
              "      <td>116</td>\n",
              "      <td>Mark Harrison</td>\n",
              "      <td>2008-08-02 05:51:57.153 UTC</td>\n",
              "      <td>2019-09-01 02:39:46.78 UTC</td>\n",
              "      <td>181436</td>\n",
              "      <td>2537</td>\n",
              "      <td>39</td>\n",
              "      <td>19386</td>\n",
              "    </tr>\n",
              "    <tr>\n",
              "      <th>9</th>\n",
              "      <td>19284570</td>\n",
              "      <td>116</td>\n",
              "      <td>2013-10-09T23:30:38Z</td>\n",
              "      <td>NaN</td>\n",
              "      <td>1</td>\n",
              "      <td>Summarizing leaf node values in a tree using SQL?</td>\n",
              "      <td>&lt;p&gt;Given a column containing a set of strings ...</td>\n",
              "      <td>sql</td>\n",
              "      <td>116</td>\n",
              "      <td>Mark Harrison</td>\n",
              "      <td>2008-08-02 05:51:57.153 UTC</td>\n",
              "      <td>2019-09-01 02:39:46.78 UTC</td>\n",
              "      <td>181436</td>\n",
              "      <td>2537</td>\n",
              "      <td>39</td>\n",
              "      <td>19386</td>\n",
              "    </tr>\n",
              "    <tr>\n",
              "      <th>10</th>\n",
              "      <td>23037540</td>\n",
              "      <td>116</td>\n",
              "      <td>2014-04-12T23:52:43Z</td>\n",
              "      <td>NaN</td>\n",
              "      <td>0</td>\n",
              "      <td>How can I sort IP addresses stored as varchar2...</td>\n",
              "      <td>&lt;p&gt;How can I sort numerical IP addresses store...</td>\n",
              "      <td>sql</td>\n",
              "      <td>116</td>\n",
              "      <td>Mark Harrison</td>\n",
              "      <td>2008-08-02 05:51:57.153 UTC</td>\n",
              "      <td>2019-09-01 02:39:46.78 UTC</td>\n",
              "      <td>181436</td>\n",
              "      <td>2537</td>\n",
              "      <td>39</td>\n",
              "      <td>19386</td>\n",
              "    </tr>\n",
              "    <tr>\n",
              "      <th>11</th>\n",
              "      <td>28243720</td>\n",
              "      <td>116</td>\n",
              "      <td>2015-01-30T20:03:04Z</td>\n",
              "      <td>NaN</td>\n",
              "      <td>1</td>\n",
              "      <td>OSX: programmatically get list of applications...</td>\n",
              "      <td>&lt;p&gt;In the finder, a user can right click / \"op...</td>\n",
              "      <td>python</td>\n",
              "      <td>116</td>\n",
              "      <td>Mark Harrison</td>\n",
              "      <td>2008-08-02 05:51:57.153 UTC</td>\n",
              "      <td>2019-09-01 02:39:46.78 UTC</td>\n",
              "      <td>181436</td>\n",
              "      <td>2537</td>\n",
              "      <td>39</td>\n",
              "      <td>19386</td>\n",
              "    </tr>\n",
              "    <tr>\n",
              "      <th>12</th>\n",
              "      <td>31996000</td>\n",
              "      <td>116</td>\n",
              "      <td>2015-08-13T18:39:13Z</td>\n",
              "      <td>NaN</td>\n",
              "      <td>0</td>\n",
              "      <td>Oracle: How do I indicate a truncated column r...</td>\n",
              "      <td>&lt;p&gt;How can I truncate a query result and indic...</td>\n",
              "      <td>sql</td>\n",
              "      <td>116</td>\n",
              "      <td>Mark Harrison</td>\n",
              "      <td>2008-08-02 05:51:57.153 UTC</td>\n",
              "      <td>2019-09-01 02:39:46.78 UTC</td>\n",
              "      <td>181436</td>\n",
              "      <td>2537</td>\n",
              "      <td>39</td>\n",
              "      <td>19386</td>\n",
              "    </tr>\n",
              "    <tr>\n",
              "      <th>13</th>\n",
              "      <td>37055420</td>\n",
              "      <td>116</td>\n",
              "      <td>2016-05-05T16:17:20Z</td>\n",
              "      <td>NaN</td>\n",
              "      <td>1</td>\n",
              "      <td>Python: How can I tell if my python has SSL?</td>\n",
              "      <td>&lt;p&gt;How can I tell if my source-built python ha...</td>\n",
              "      <td>python</td>\n",
              "      <td>116</td>\n",
              "      <td>Mark Harrison</td>\n",
              "      <td>2008-08-02 05:51:57.153 UTC</td>\n",
              "      <td>2019-09-01 02:39:46.78 UTC</td>\n",
              "      <td>181436</td>\n",
              "      <td>2537</td>\n",
              "      <td>39</td>\n",
              "      <td>19386</td>\n",
              "    </tr>\n",
              "    <tr>\n",
              "      <th>14</th>\n",
              "      <td>2120</td>\n",
              "      <td>383</td>\n",
              "      <td>2008-08-05T11:49:11Z</td>\n",
              "      <td>NaN</td>\n",
              "      <td>77</td>\n",
              "      <td>Convert HashBytes to VarChar</td>\n",
              "      <td>&lt;p&gt;I want to get the MD5 Hash of a string valu...</td>\n",
              "      <td>sql</td>\n",
              "      <td>383</td>\n",
              "      <td>GateKiller</td>\n",
              "      <td>2008-08-05 10:46:37.323 UTC</td>\n",
              "      <td>2019-08-23 15:34:43.337 UTC</td>\n",
              "      <td>36397</td>\n",
              "      <td>1187</td>\n",
              "      <td>238</td>\n",
              "      <td>3452</td>\n",
              "    </tr>\n",
              "    <tr>\n",
              "      <th>15</th>\n",
              "      <td>2840</td>\n",
              "      <td>383</td>\n",
              "      <td>2008-08-05T20:57:00Z</td>\n",
              "      <td>NaN</td>\n",
              "      <td>32</td>\n",
              "      <td>Paging SQL Server 2005 Results</td>\n",
              "      <td>&lt;p&gt;How do I page results in SQL Server 2005?&lt;/...</td>\n",
              "      <td>sql</td>\n",
              "      <td>383</td>\n",
              "      <td>GateKiller</td>\n",
              "      <td>2008-08-05 10:46:37.323 UTC</td>\n",
              "      <td>2019-08-23 15:34:43.337 UTC</td>\n",
              "      <td>36397</td>\n",
              "      <td>1187</td>\n",
              "      <td>238</td>\n",
              "      <td>3452</td>\n",
              "    </tr>\n",
              "    <tr>\n",
              "      <th>16</th>\n",
              "      <td>2192330</td>\n",
              "      <td>383</td>\n",
              "      <td>2010-02-03T13:51:13Z</td>\n",
              "      <td>NaN</td>\n",
              "      <td>7</td>\n",
              "      <td>Select Count(Distinct Value) returns 1</td>\n",
              "      <td>&lt;p&gt;I'm designing a query in &lt;a href=\"http://en...</td>\n",
              "      <td>sql</td>\n",
              "      <td>383</td>\n",
              "      <td>GateKiller</td>\n",
              "      <td>2008-08-05 10:46:37.323 UTC</td>\n",
              "      <td>2019-08-23 15:34:43.337 UTC</td>\n",
              "      <td>36397</td>\n",
              "      <td>1187</td>\n",
              "      <td>238</td>\n",
              "      <td>3452</td>\n",
              "    </tr>\n",
              "    <tr>\n",
              "      <th>17</th>\n",
              "      <td>4110</td>\n",
              "      <td>369</td>\n",
              "      <td>2008-08-06T23:19:50Z</td>\n",
              "      <td>2014-12-30T11:43:01Z</td>\n",
              "      <td>7</td>\n",
              "      <td>What program can I use to generate diagrams of...</td>\n",
              "      <td>&lt;p&gt;I've been tasked with redesigning part of a...</td>\n",
              "      <td>sql</td>\n",
              "      <td>369</td>\n",
              "      <td>Blorgbeard</td>\n",
              "      <td>2008-08-05 08:33:43.627 UTC</td>\n",
              "      <td>2019-08-31 01:31:53.53 UTC</td>\n",
              "      <td>78917</td>\n",
              "      <td>5762</td>\n",
              "      <td>7760</td>\n",
              "      <td>9173</td>\n",
              "    </tr>\n",
              "    <tr>\n",
              "      <th>18</th>\n",
              "      <td>6340</td>\n",
              "      <td>58</td>\n",
              "      <td>2008-08-08T20:07:43Z</td>\n",
              "      <td>NaN</td>\n",
              "      <td>10</td>\n",
              "      <td>Multiple foreign keys?</td>\n",
              "      <td>&lt;p&gt;I've got a table that is supposed to track ...</td>\n",
              "      <td>sql</td>\n",
              "      <td>58</td>\n",
              "      <td>cmcculloh</td>\n",
              "      <td>2008-08-01 13:56:33.807 UTC</td>\n",
              "      <td>2019-08-27 16:56:31.03 UTC</td>\n",
              "      <td>24807</td>\n",
              "      <td>1047</td>\n",
              "      <td>55</td>\n",
              "      <td>1795</td>\n",
              "    </tr>\n",
              "    <tr>\n",
              "      <th>19</th>\n",
              "      <td>10190</td>\n",
              "      <td>373</td>\n",
              "      <td>2008-08-13T18:38:02Z</td>\n",
              "      <td>NaN</td>\n",
              "      <td>10</td>\n",
              "      <td>How to return a page of results from SQL?</td>\n",
              "      <td>&lt;p&gt;Many applications have grids that display d...</td>\n",
              "      <td>sql</td>\n",
              "      <td>373</td>\n",
              "      <td>urini</td>\n",
              "      <td>2008-08-05 09:37:52.467 UTC</td>\n",
              "      <td>2017-12-18 16:13:22.57 UTC</td>\n",
              "      <td>21582</td>\n",
              "      <td>53</td>\n",
              "      <td>1</td>\n",
              "      <td>788</td>\n",
              "    </tr>\n",
              "  </tbody>\n",
              "</table>\n",
              "</div>"
            ],
            "text/plain": [
              "          Id  OwnerUserId          CreationDate  ... up_votes  down_votes  views\n",
              "0        120           83  2008-08-01T15:50:08Z  ...     1966          63   2886\n",
              "1       1970          116  2008-08-05T06:39:31Z  ...     2537          39  19386\n",
              "2     998950          116  2009-06-15T23:28:31Z  ...     2537          39  19386\n",
              "3    1101390          116  2009-07-09T01:26:39Z  ...     2537          39  19386\n",
              "4    2169720          116  2010-01-30T22:33:02Z  ...     2537          39  19386\n",
              "5    2483140          116  2010-03-20T13:17:46Z  ...     2537          39  19386\n",
              "6    2616190          116  2010-04-11T06:01:58Z  ...     2537          39  19386\n",
              "7    3570720          116  2010-08-25T22:27:07Z  ...     2537          39  19386\n",
              "8    9407640          116  2012-02-23T05:23:12Z  ...     2537          39  19386\n",
              "9   19284570          116  2013-10-09T23:30:38Z  ...     2537          39  19386\n",
              "10  23037540          116  2014-04-12T23:52:43Z  ...     2537          39  19386\n",
              "11  28243720          116  2015-01-30T20:03:04Z  ...     2537          39  19386\n",
              "12  31996000          116  2015-08-13T18:39:13Z  ...     2537          39  19386\n",
              "13  37055420          116  2016-05-05T16:17:20Z  ...     2537          39  19386\n",
              "14      2120          383  2008-08-05T11:49:11Z  ...     1187         238   3452\n",
              "15      2840          383  2008-08-05T20:57:00Z  ...     1187         238   3452\n",
              "16   2192330          383  2010-02-03T13:51:13Z  ...     1187         238   3452\n",
              "17      4110          369  2008-08-06T23:19:50Z  ...     5762        7760   9173\n",
              "18      6340           58  2008-08-08T20:07:43Z  ...     1047          55   1795\n",
              "19     10190          373  2008-08-13T18:38:02Z  ...       53           1    788\n",
              "\n",
              "[20 rows x 16 columns]"
            ]
          },
          "metadata": {
            "tags": []
          },
          "execution_count": 47
        }
      ]
    },
    {
      "cell_type": "markdown",
      "metadata": {
        "id": "AxfG-1B_jofy"
      },
      "source": [
        "Top 25 users who asked most DS questions"
      ]
    },
    {
      "cell_type": "code",
      "metadata": {
        "colab": {
          "base_uri": "https://localhost:8080/",
          "height": 827
        },
        "id": "LTjBi_6rJMK1",
        "outputId": "4c3ccf35-9720-41c0-f5c2-9c808231b910"
      },
      "source": [
        "usr_ds_tags[['display_name','Id']].groupby(by='display_name').count().sort_values(by='Id',ascending=False)[:25]"
      ],
      "execution_count": null,
      "outputs": [
        {
          "output_type": "execute_result",
          "data": {
            "text/html": [
              "<div>\n",
              "<style scoped>\n",
              "    .dataframe tbody tr th:only-of-type {\n",
              "        vertical-align: middle;\n",
              "    }\n",
              "\n",
              "    .dataframe tbody tr th {\n",
              "        vertical-align: top;\n",
              "    }\n",
              "\n",
              "    .dataframe thead th {\n",
              "        text-align: right;\n",
              "    }\n",
              "</style>\n",
              "<table border=\"1\" class=\"dataframe\">\n",
              "  <thead>\n",
              "    <tr style=\"text-align: right;\">\n",
              "      <th></th>\n",
              "      <th>Id</th>\n",
              "    </tr>\n",
              "    <tr>\n",
              "      <th>display_name</th>\n",
              "      <th></th>\n",
              "    </tr>\n",
              "  </thead>\n",
              "  <tbody>\n",
              "    <tr>\n",
              "      <th>Alex</th>\n",
              "      <td>142</td>\n",
              "    </tr>\n",
              "    <tr>\n",
              "      <th>David542</th>\n",
              "      <td>121</td>\n",
              "    </tr>\n",
              "    <tr>\n",
              "      <th>Chris</th>\n",
              "      <td>86</td>\n",
              "    </tr>\n",
              "    <tr>\n",
              "      <th>John</th>\n",
              "      <td>73</td>\n",
              "    </tr>\n",
              "    <tr>\n",
              "      <th>Michael</th>\n",
              "      <td>63</td>\n",
              "    </tr>\n",
              "    <tr>\n",
              "      <th>Ben</th>\n",
              "      <td>60</td>\n",
              "    </tr>\n",
              "    <tr>\n",
              "      <th>l--''''''---------''''''''''''</th>\n",
              "      <td>58</td>\n",
              "    </tr>\n",
              "    <tr>\n",
              "      <th>TIMEX</th>\n",
              "      <td>52</td>\n",
              "    </tr>\n",
              "    <tr>\n",
              "      <th>Matt</th>\n",
              "      <td>50</td>\n",
              "    </tr>\n",
              "    <tr>\n",
              "      <th>Richard</th>\n",
              "      <td>49</td>\n",
              "    </tr>\n",
              "    <tr>\n",
              "      <th>Dan</th>\n",
              "      <td>49</td>\n",
              "    </tr>\n",
              "    <tr>\n",
              "      <th>David</th>\n",
              "      <td>49</td>\n",
              "    </tr>\n",
              "    <tr>\n",
              "      <th>Amelio Vazquez-Reina</th>\n",
              "      <td>49</td>\n",
              "    </tr>\n",
              "    <tr>\n",
              "      <th>Brian</th>\n",
              "      <td>44</td>\n",
              "    </tr>\n",
              "    <tr>\n",
              "      <th>user61629</th>\n",
              "      <td>42</td>\n",
              "    </tr>\n",
              "    <tr>\n",
              "      <th>user308827</th>\n",
              "      <td>42</td>\n",
              "    </tr>\n",
              "    <tr>\n",
              "      <th>Tom</th>\n",
              "      <td>42</td>\n",
              "    </tr>\n",
              "    <tr>\n",
              "      <th>James</th>\n",
              "      <td>41</td>\n",
              "    </tr>\n",
              "    <tr>\n",
              "      <th>alphanumeric</th>\n",
              "      <td>41</td>\n",
              "    </tr>\n",
              "    <tr>\n",
              "      <th>Mike</th>\n",
              "      <td>41</td>\n",
              "    </tr>\n",
              "    <tr>\n",
              "      <th>Paul</th>\n",
              "      <td>40</td>\n",
              "    </tr>\n",
              "    <tr>\n",
              "      <th>Andrew</th>\n",
              "      <td>40</td>\n",
              "    </tr>\n",
              "    <tr>\n",
              "      <th>Adam</th>\n",
              "      <td>39</td>\n",
              "    </tr>\n",
              "    <tr>\n",
              "      <th>Daniel</th>\n",
              "      <td>39</td>\n",
              "    </tr>\n",
              "    <tr>\n",
              "      <th>max</th>\n",
              "      <td>37</td>\n",
              "    </tr>\n",
              "  </tbody>\n",
              "</table>\n",
              "</div>"
            ],
            "text/plain": [
              "                                 Id\n",
              "display_name                       \n",
              "Alex                            142\n",
              "David542                        121\n",
              "Chris                            86\n",
              "John                             73\n",
              "Michael                          63\n",
              "Ben                              60\n",
              "l--''''''---------''''''''''''   58\n",
              "TIMEX                            52\n",
              "Matt                             50\n",
              "Richard                          49\n",
              "Dan                              49\n",
              "David                            49\n",
              "Amelio Vazquez-Reina             49\n",
              "Brian                            44\n",
              "user61629                        42\n",
              "user308827                       42\n",
              "Tom                              42\n",
              "James                            41\n",
              "alphanumeric                     41\n",
              "Mike                             41\n",
              "Paul                             40\n",
              "Andrew                           40\n",
              "Adam                             39\n",
              "Daniel                           39\n",
              "max                              37"
            ]
          },
          "metadata": {
            "tags": []
          },
          "execution_count": 48
        }
      ]
    },
    {
      "cell_type": "markdown",
      "metadata": {
        "id": "zw1no-KVl4H6"
      },
      "source": [
        "***So, as per analysis, StackOverflow must send notification to above users so that they can check the questions and this solves the first part of our EDA.***"
      ]
    },
    {
      "cell_type": "markdown",
      "metadata": {
        "id": "51wyrAOdifGQ"
      },
      "source": [
        "Answers joined with Questions based on DS tags"
      ]
    },
    {
      "cell_type": "code",
      "metadata": {
        "id": "F7QGJJIXkEPf"
      },
      "source": [
        "ans_qs_ds_tags=pd.merge(usr_ds_tags,ans,how='inner',left_on='Id',right_on='ParentId')"
      ],
      "execution_count": null,
      "outputs": []
    },
    {
      "cell_type": "code",
      "metadata": {
        "colab": {
          "base_uri": "https://localhost:8080/",
          "height": 1000
        },
        "id": "S1CvO-kpk4Lf",
        "outputId": "56ae5865-4bd5-4caf-dd2c-832597097e06"
      },
      "source": [
        "ans_qs_ds_tags.head(20)"
      ],
      "execution_count": null,
      "outputs": [
        {
          "output_type": "execute_result",
          "data": {
            "text/html": [
              "<div>\n",
              "<style scoped>\n",
              "    .dataframe tbody tr th:only-of-type {\n",
              "        vertical-align: middle;\n",
              "    }\n",
              "\n",
              "    .dataframe tbody tr th {\n",
              "        vertical-align: top;\n",
              "    }\n",
              "\n",
              "    .dataframe thead th {\n",
              "        text-align: right;\n",
              "    }\n",
              "</style>\n",
              "<table border=\"1\" class=\"dataframe\">\n",
              "  <thead>\n",
              "    <tr style=\"text-align: right;\">\n",
              "      <th></th>\n",
              "      <th>Id_x</th>\n",
              "      <th>OwnerUserId_x</th>\n",
              "      <th>CreationDate_x</th>\n",
              "      <th>ClosedDate</th>\n",
              "      <th>Score_x</th>\n",
              "      <th>Title</th>\n",
              "      <th>Body_x</th>\n",
              "      <th>Tag</th>\n",
              "      <th>id</th>\n",
              "      <th>display_name</th>\n",
              "      <th>creation_date</th>\n",
              "      <th>last_access_date</th>\n",
              "      <th>reputation</th>\n",
              "      <th>up_votes</th>\n",
              "      <th>down_votes</th>\n",
              "      <th>views</th>\n",
              "      <th>Id_y</th>\n",
              "      <th>OwnerUserId_y</th>\n",
              "      <th>CreationDate_y</th>\n",
              "      <th>ParentId</th>\n",
              "      <th>Score_y</th>\n",
              "      <th>Body_y</th>\n",
              "    </tr>\n",
              "  </thead>\n",
              "  <tbody>\n",
              "    <tr>\n",
              "      <th>0</th>\n",
              "      <td>120</td>\n",
              "      <td>83</td>\n",
              "      <td>2008-08-01T15:50:08Z</td>\n",
              "      <td>NaN</td>\n",
              "      <td>21</td>\n",
              "      <td>ASP.NET Site Maps</td>\n",
              "      <td>&lt;p&gt;Has anyone got experience creating &lt;strong&gt;...</td>\n",
              "      <td>sql</td>\n",
              "      <td>83</td>\n",
              "      <td>Zack Peterson</td>\n",
              "      <td>2008-08-01 16:31:56.94 UTC</td>\n",
              "      <td>2019-08-27 20:25:33.09 UTC</td>\n",
              "      <td>31853</td>\n",
              "      <td>1966</td>\n",
              "      <td>63</td>\n",
              "      <td>2886</td>\n",
              "      <td>124363</td>\n",
              "      <td>12734</td>\n",
              "      <td>2008-09-23T22:41:11Z</td>\n",
              "      <td>120</td>\n",
              "      <td>9</td>\n",
              "      <td>&lt;p&gt;The Jeff Prosise version from MSDN magazine...</td>\n",
              "    </tr>\n",
              "    <tr>\n",
              "      <th>1</th>\n",
              "      <td>1970</td>\n",
              "      <td>116</td>\n",
              "      <td>2008-08-05T06:39:31Z</td>\n",
              "      <td>NaN</td>\n",
              "      <td>10</td>\n",
              "      <td>What language do you use for PostgreSQL trigge...</td>\n",
              "      <td>&lt;p&gt;PostgreSQL is interesting in that it suppor...</td>\n",
              "      <td>sql</td>\n",
              "      <td>116</td>\n",
              "      <td>Mark Harrison</td>\n",
              "      <td>2008-08-02 05:51:57.153 UTC</td>\n",
              "      <td>2019-09-01 02:39:46.78 UTC</td>\n",
              "      <td>181436</td>\n",
              "      <td>2537</td>\n",
              "      <td>39</td>\n",
              "      <td>19386</td>\n",
              "      <td>1971</td>\n",
              "      <td>269</td>\n",
              "      <td>2008-08-05T06:43:30Z</td>\n",
              "      <td>1970</td>\n",
              "      <td>3</td>\n",
              "      <td>&lt;p&gt;When I wrote my first trigger it was in Per...</td>\n",
              "    </tr>\n",
              "    <tr>\n",
              "      <th>2</th>\n",
              "      <td>1970</td>\n",
              "      <td>116</td>\n",
              "      <td>2008-08-05T06:39:31Z</td>\n",
              "      <td>NaN</td>\n",
              "      <td>10</td>\n",
              "      <td>What language do you use for PostgreSQL trigge...</td>\n",
              "      <td>&lt;p&gt;PostgreSQL is interesting in that it suppor...</td>\n",
              "      <td>sql</td>\n",
              "      <td>116</td>\n",
              "      <td>Mark Harrison</td>\n",
              "      <td>2008-08-02 05:51:57.153 UTC</td>\n",
              "      <td>2019-09-01 02:39:46.78 UTC</td>\n",
              "      <td>181436</td>\n",
              "      <td>2537</td>\n",
              "      <td>39</td>\n",
              "      <td>19386</td>\n",
              "      <td>3454</td>\n",
              "      <td>277</td>\n",
              "      <td>2008-08-06T14:26:08Z</td>\n",
              "      <td>1970</td>\n",
              "      <td>5</td>\n",
              "      <td>&lt;p&gt;I have only really used PL/pgSQL, but that ...</td>\n",
              "    </tr>\n",
              "    <tr>\n",
              "      <th>3</th>\n",
              "      <td>1970</td>\n",
              "      <td>116</td>\n",
              "      <td>2008-08-05T06:39:31Z</td>\n",
              "      <td>NaN</td>\n",
              "      <td>10</td>\n",
              "      <td>What language do you use for PostgreSQL trigge...</td>\n",
              "      <td>&lt;p&gt;PostgreSQL is interesting in that it suppor...</td>\n",
              "      <td>sql</td>\n",
              "      <td>116</td>\n",
              "      <td>Mark Harrison</td>\n",
              "      <td>2008-08-02 05:51:57.153 UTC</td>\n",
              "      <td>2019-09-01 02:39:46.78 UTC</td>\n",
              "      <td>181436</td>\n",
              "      <td>2537</td>\n",
              "      <td>39</td>\n",
              "      <td>19386</td>\n",
              "      <td>59345</td>\n",
              "      <td>1081</td>\n",
              "      <td>2008-09-12T15:39:39Z</td>\n",
              "      <td>1970</td>\n",
              "      <td>2</td>\n",
              "      <td>&lt;p&gt;Skype uses &lt;strong&gt;PostgreSQL&lt;/strong&gt; toge...</td>\n",
              "    </tr>\n",
              "    <tr>\n",
              "      <th>4</th>\n",
              "      <td>1970</td>\n",
              "      <td>116</td>\n",
              "      <td>2008-08-05T06:39:31Z</td>\n",
              "      <td>NaN</td>\n",
              "      <td>10</td>\n",
              "      <td>What language do you use for PostgreSQL trigge...</td>\n",
              "      <td>&lt;p&gt;PostgreSQL is interesting in that it suppor...</td>\n",
              "      <td>sql</td>\n",
              "      <td>116</td>\n",
              "      <td>Mark Harrison</td>\n",
              "      <td>2008-08-02 05:51:57.153 UTC</td>\n",
              "      <td>2019-09-01 02:39:46.78 UTC</td>\n",
              "      <td>181436</td>\n",
              "      <td>2537</td>\n",
              "      <td>39</td>\n",
              "      <td>19386</td>\n",
              "      <td>69641</td>\n",
              "      <td>11116</td>\n",
              "      <td>2008-09-16T05:43:22Z</td>\n",
              "      <td>1970</td>\n",
              "      <td>4</td>\n",
              "      <td>&lt;p&gt;I write pretty much everything in plpgsql, ...</td>\n",
              "    </tr>\n",
              "    <tr>\n",
              "      <th>5</th>\n",
              "      <td>1970</td>\n",
              "      <td>116</td>\n",
              "      <td>2008-08-05T06:39:31Z</td>\n",
              "      <td>NaN</td>\n",
              "      <td>10</td>\n",
              "      <td>What language do you use for PostgreSQL trigge...</td>\n",
              "      <td>&lt;p&gt;PostgreSQL is interesting in that it suppor...</td>\n",
              "      <td>sql</td>\n",
              "      <td>116</td>\n",
              "      <td>Mark Harrison</td>\n",
              "      <td>2008-08-02 05:51:57.153 UTC</td>\n",
              "      <td>2019-09-01 02:39:46.78 UTC</td>\n",
              "      <td>181436</td>\n",
              "      <td>2537</td>\n",
              "      <td>39</td>\n",
              "      <td>19386</td>\n",
              "      <td>77666</td>\n",
              "      <td>13860</td>\n",
              "      <td>2008-09-16T22:00:49Z</td>\n",
              "      <td>1970</td>\n",
              "      <td>2</td>\n",
              "      <td>&lt;p&gt;For anything really small/simple or that do...</td>\n",
              "    </tr>\n",
              "    <tr>\n",
              "      <th>6</th>\n",
              "      <td>1970</td>\n",
              "      <td>116</td>\n",
              "      <td>2008-08-05T06:39:31Z</td>\n",
              "      <td>NaN</td>\n",
              "      <td>10</td>\n",
              "      <td>What language do you use for PostgreSQL trigge...</td>\n",
              "      <td>&lt;p&gt;PostgreSQL is interesting in that it suppor...</td>\n",
              "      <td>sql</td>\n",
              "      <td>116</td>\n",
              "      <td>Mark Harrison</td>\n",
              "      <td>2008-08-02 05:51:57.153 UTC</td>\n",
              "      <td>2019-09-01 02:39:46.78 UTC</td>\n",
              "      <td>181436</td>\n",
              "      <td>2537</td>\n",
              "      <td>39</td>\n",
              "      <td>19386</td>\n",
              "      <td>93293</td>\n",
              "      <td>1167846</td>\n",
              "      <td>2008-09-18T14:54:22Z</td>\n",
              "      <td>1970</td>\n",
              "      <td>2</td>\n",
              "      <td>&lt;p&gt;PL/Ruby because I use Ruby every day anyway...</td>\n",
              "    </tr>\n",
              "    <tr>\n",
              "      <th>7</th>\n",
              "      <td>1970</td>\n",
              "      <td>116</td>\n",
              "      <td>2008-08-05T06:39:31Z</td>\n",
              "      <td>NaN</td>\n",
              "      <td>10</td>\n",
              "      <td>What language do you use for PostgreSQL trigge...</td>\n",
              "      <td>&lt;p&gt;PostgreSQL is interesting in that it suppor...</td>\n",
              "      <td>sql</td>\n",
              "      <td>116</td>\n",
              "      <td>Mark Harrison</td>\n",
              "      <td>2008-08-02 05:51:57.153 UTC</td>\n",
              "      <td>2019-09-01 02:39:46.78 UTC</td>\n",
              "      <td>181436</td>\n",
              "      <td>2537</td>\n",
              "      <td>39</td>\n",
              "      <td>19386</td>\n",
              "      <td>113350</td>\n",
              "      <td>0</td>\n",
              "      <td>2008-09-22T05:51:37Z</td>\n",
              "      <td>1970</td>\n",
              "      <td>2</td>\n",
              "      <td>&lt;p&gt;I use PL/pgSQL for most everything, and if ...</td>\n",
              "    </tr>\n",
              "    <tr>\n",
              "      <th>8</th>\n",
              "      <td>1970</td>\n",
              "      <td>116</td>\n",
              "      <td>2008-08-05T06:39:31Z</td>\n",
              "      <td>NaN</td>\n",
              "      <td>10</td>\n",
              "      <td>What language do you use for PostgreSQL trigge...</td>\n",
              "      <td>&lt;p&gt;PostgreSQL is interesting in that it suppor...</td>\n",
              "      <td>sql</td>\n",
              "      <td>116</td>\n",
              "      <td>Mark Harrison</td>\n",
              "      <td>2008-08-02 05:51:57.153 UTC</td>\n",
              "      <td>2019-09-01 02:39:46.78 UTC</td>\n",
              "      <td>181436</td>\n",
              "      <td>2537</td>\n",
              "      <td>39</td>\n",
              "      <td>19386</td>\n",
              "      <td>1382419</td>\n",
              "      <td>49166</td>\n",
              "      <td>2009-09-05T04:01:09Z</td>\n",
              "      <td>1970</td>\n",
              "      <td>2</td>\n",
              "      <td>&lt;p&gt;I use PL/Perl because:&lt;/p&gt;\\n\\n&lt;ul&gt;\\n&lt;li&gt;I l...</td>\n",
              "    </tr>\n",
              "    <tr>\n",
              "      <th>9</th>\n",
              "      <td>998950</td>\n",
              "      <td>116</td>\n",
              "      <td>2009-06-15T23:28:31Z</td>\n",
              "      <td>NaN</td>\n",
              "      <td>9</td>\n",
              "      <td>Is &amp;#x10; a valid character in XML?</td>\n",
              "      <td>&lt;p&gt;On this data:&lt;/p&gt;\\n\\n&lt;pre&gt;&lt;code&gt;&amp;lt;row Id=...</td>\n",
              "      <td>python</td>\n",
              "      <td>116</td>\n",
              "      <td>Mark Harrison</td>\n",
              "      <td>2008-08-02 05:51:57.153 UTC</td>\n",
              "      <td>2019-09-01 02:39:46.78 UTC</td>\n",
              "      <td>181436</td>\n",
              "      <td>2537</td>\n",
              "      <td>39</td>\n",
              "      <td>19386</td>\n",
              "      <td>998988</td>\n",
              "      <td>99451</td>\n",
              "      <td>2009-06-15T23:40:12Z</td>\n",
              "      <td>998950</td>\n",
              "      <td>4</td>\n",
              "      <td>&lt;p&gt;&lt;code&gt;&amp;amp;#10;&lt;/code&gt; is the linefeed char...</td>\n",
              "    </tr>\n",
              "    <tr>\n",
              "      <th>10</th>\n",
              "      <td>998950</td>\n",
              "      <td>116</td>\n",
              "      <td>2009-06-15T23:28:31Z</td>\n",
              "      <td>NaN</td>\n",
              "      <td>9</td>\n",
              "      <td>Is &amp;#x10; a valid character in XML?</td>\n",
              "      <td>&lt;p&gt;On this data:&lt;/p&gt;\\n\\n&lt;pre&gt;&lt;code&gt;&amp;lt;row Id=...</td>\n",
              "      <td>python</td>\n",
              "      <td>116</td>\n",
              "      <td>Mark Harrison</td>\n",
              "      <td>2008-08-02 05:51:57.153 UTC</td>\n",
              "      <td>2019-09-01 02:39:46.78 UTC</td>\n",
              "      <td>181436</td>\n",
              "      <td>2537</td>\n",
              "      <td>39</td>\n",
              "      <td>19386</td>\n",
              "      <td>999048</td>\n",
              "      <td>0</td>\n",
              "      <td>2009-06-15T23:59:20Z</td>\n",
              "      <td>998950</td>\n",
              "      <td>12</td>\n",
              "      <td>&lt;p&gt;As others have stated, you probably meant &lt;...</td>\n",
              "    </tr>\n",
              "    <tr>\n",
              "      <th>11</th>\n",
              "      <td>1101390</td>\n",
              "      <td>116</td>\n",
              "      <td>2009-07-09T01:26:39Z</td>\n",
              "      <td>NaN</td>\n",
              "      <td>6</td>\n",
              "      <td>Oracle SQL Developer: sharing configuration vi...</td>\n",
              "      <td>&lt;p&gt;I would like to share my Oracle SQL Develop...</td>\n",
              "      <td>sql</td>\n",
              "      <td>116</td>\n",
              "      <td>Mark Harrison</td>\n",
              "      <td>2008-08-02 05:51:57.153 UTC</td>\n",
              "      <td>2019-09-01 02:39:46.78 UTC</td>\n",
              "      <td>181436</td>\n",
              "      <td>2537</td>\n",
              "      <td>39</td>\n",
              "      <td>19386</td>\n",
              "      <td>1101404</td>\n",
              "      <td>116</td>\n",
              "      <td>2009-07-09T01:30:34Z</td>\n",
              "      <td>1101390</td>\n",
              "      <td>2</td>\n",
              "      <td>&lt;p&gt;Here's what I did.&lt;/p&gt;\\n\\n&lt;pre&gt;&lt;code&gt;#!/bin...</td>\n",
              "    </tr>\n",
              "    <tr>\n",
              "      <th>12</th>\n",
              "      <td>1101390</td>\n",
              "      <td>116</td>\n",
              "      <td>2009-07-09T01:26:39Z</td>\n",
              "      <td>NaN</td>\n",
              "      <td>6</td>\n",
              "      <td>Oracle SQL Developer: sharing configuration vi...</td>\n",
              "      <td>&lt;p&gt;I would like to share my Oracle SQL Develop...</td>\n",
              "      <td>sql</td>\n",
              "      <td>116</td>\n",
              "      <td>Mark Harrison</td>\n",
              "      <td>2008-08-02 05:51:57.153 UTC</td>\n",
              "      <td>2019-09-01 02:39:46.78 UTC</td>\n",
              "      <td>181436</td>\n",
              "      <td>2537</td>\n",
              "      <td>39</td>\n",
              "      <td>19386</td>\n",
              "      <td>5557616</td>\n",
              "      <td>209129</td>\n",
              "      <td>2011-04-05T19:47:41Z</td>\n",
              "      <td>1101390</td>\n",
              "      <td>11</td>\n",
              "      <td>&lt;p&gt;In case anyone comes here looking for the l...</td>\n",
              "    </tr>\n",
              "    <tr>\n",
              "      <th>13</th>\n",
              "      <td>1101390</td>\n",
              "      <td>116</td>\n",
              "      <td>2009-07-09T01:26:39Z</td>\n",
              "      <td>NaN</td>\n",
              "      <td>6</td>\n",
              "      <td>Oracle SQL Developer: sharing configuration vi...</td>\n",
              "      <td>&lt;p&gt;I would like to share my Oracle SQL Develop...</td>\n",
              "      <td>sql</td>\n",
              "      <td>116</td>\n",
              "      <td>Mark Harrison</td>\n",
              "      <td>2008-08-02 05:51:57.153 UTC</td>\n",
              "      <td>2019-09-01 02:39:46.78 UTC</td>\n",
              "      <td>181436</td>\n",
              "      <td>2537</td>\n",
              "      <td>39</td>\n",
              "      <td>19386</td>\n",
              "      <td>12734382</td>\n",
              "      <td>123664</td>\n",
              "      <td>2012-10-04T19:22:35Z</td>\n",
              "      <td>1101390</td>\n",
              "      <td>1</td>\n",
              "      <td>&lt;p&gt;Simple sharing SQLDeveloper config on Dropb...</td>\n",
              "    </tr>\n",
              "    <tr>\n",
              "      <th>14</th>\n",
              "      <td>2169720</td>\n",
              "      <td>116</td>\n",
              "      <td>2010-01-30T22:33:02Z</td>\n",
              "      <td>NaN</td>\n",
              "      <td>4</td>\n",
              "      <td>Oracle: pivot (coalesce) some counts onto a si...</td>\n",
              "      <td>&lt;p&gt;&lt;strong&gt;update: what I was calling &lt;em&gt;coal...</td>\n",
              "      <td>sql</td>\n",
              "      <td>116</td>\n",
              "      <td>Mark Harrison</td>\n",
              "      <td>2008-08-02 05:51:57.153 UTC</td>\n",
              "      <td>2019-09-01 02:39:46.78 UTC</td>\n",
              "      <td>181436</td>\n",
              "      <td>2537</td>\n",
              "      <td>39</td>\n",
              "      <td>19386</td>\n",
              "      <td>2169727</td>\n",
              "      <td>12716</td>\n",
              "      <td>2010-01-30T22:35:17Z</td>\n",
              "      <td>2169720</td>\n",
              "      <td>0</td>\n",
              "      <td>&lt;p&gt;Well, I can at least provide an 11 solution...</td>\n",
              "    </tr>\n",
              "    <tr>\n",
              "      <th>15</th>\n",
              "      <td>2169720</td>\n",
              "      <td>116</td>\n",
              "      <td>2010-01-30T22:33:02Z</td>\n",
              "      <td>NaN</td>\n",
              "      <td>4</td>\n",
              "      <td>Oracle: pivot (coalesce) some counts onto a si...</td>\n",
              "      <td>&lt;p&gt;&lt;strong&gt;update: what I was calling &lt;em&gt;coal...</td>\n",
              "      <td>sql</td>\n",
              "      <td>116</td>\n",
              "      <td>Mark Harrison</td>\n",
              "      <td>2008-08-02 05:51:57.153 UTC</td>\n",
              "      <td>2019-09-01 02:39:46.78 UTC</td>\n",
              "      <td>181436</td>\n",
              "      <td>2537</td>\n",
              "      <td>39</td>\n",
              "      <td>19386</td>\n",
              "      <td>2169764</td>\n",
              "      <td>135152</td>\n",
              "      <td>2010-01-30T22:44:57Z</td>\n",
              "      <td>2169720</td>\n",
              "      <td>4</td>\n",
              "      <td>&lt;p&gt;What you're looking for is pivoting - trans...</td>\n",
              "    </tr>\n",
              "    <tr>\n",
              "      <th>16</th>\n",
              "      <td>2483140</td>\n",
              "      <td>116</td>\n",
              "      <td>2010-03-20T13:17:46Z</td>\n",
              "      <td>NaN</td>\n",
              "      <td>19</td>\n",
              "      <td>Oracle: how to \"group by\" over a range?</td>\n",
              "      <td>&lt;p&gt;If I have a table like this:&lt;/p&gt;\\n\\n&lt;pre&gt;&lt;c...</td>\n",
              "      <td>sql</td>\n",
              "      <td>116</td>\n",
              "      <td>Mark Harrison</td>\n",
              "      <td>2008-08-02 05:51:57.153 UTC</td>\n",
              "      <td>2019-09-01 02:39:46.78 UTC</td>\n",
              "      <td>181436</td>\n",
              "      <td>2537</td>\n",
              "      <td>39</td>\n",
              "      <td>19386</td>\n",
              "      <td>2483148</td>\n",
              "      <td>47773</td>\n",
              "      <td>2010-03-20T13:19:59Z</td>\n",
              "      <td>2483140</td>\n",
              "      <td>17</td>\n",
              "      <td>&lt;p&gt;Try:&lt;/p&gt;\\n\\n&lt;pre&gt;&lt;code&gt;select to_char(floor...</td>\n",
              "    </tr>\n",
              "    <tr>\n",
              "      <th>17</th>\n",
              "      <td>2483140</td>\n",
              "      <td>116</td>\n",
              "      <td>2010-03-20T13:17:46Z</td>\n",
              "      <td>NaN</td>\n",
              "      <td>19</td>\n",
              "      <td>Oracle: how to \"group by\" over a range?</td>\n",
              "      <td>&lt;p&gt;If I have a table like this:&lt;/p&gt;\\n\\n&lt;pre&gt;&lt;c...</td>\n",
              "      <td>sql</td>\n",
              "      <td>116</td>\n",
              "      <td>Mark Harrison</td>\n",
              "      <td>2008-08-02 05:51:57.153 UTC</td>\n",
              "      <td>2019-09-01 02:39:46.78 UTC</td>\n",
              "      <td>181436</td>\n",
              "      <td>2537</td>\n",
              "      <td>39</td>\n",
              "      <td>19386</td>\n",
              "      <td>2483270</td>\n",
              "      <td>298016</td>\n",
              "      <td>2010-03-20T13:55:22Z</td>\n",
              "      <td>2483140</td>\n",
              "      <td>1</td>\n",
              "      <td>&lt;p&gt;add an age_range table and an age_range_id ...</td>\n",
              "    </tr>\n",
              "    <tr>\n",
              "      <th>18</th>\n",
              "      <td>2483140</td>\n",
              "      <td>116</td>\n",
              "      <td>2010-03-20T13:17:46Z</td>\n",
              "      <td>NaN</td>\n",
              "      <td>19</td>\n",
              "      <td>Oracle: how to \"group by\" over a range?</td>\n",
              "      <td>&lt;p&gt;If I have a table like this:&lt;/p&gt;\\n\\n&lt;pre&gt;&lt;c...</td>\n",
              "      <td>sql</td>\n",
              "      <td>116</td>\n",
              "      <td>Mark Harrison</td>\n",
              "      <td>2008-08-02 05:51:57.153 UTC</td>\n",
              "      <td>2019-09-01 02:39:46.78 UTC</td>\n",
              "      <td>181436</td>\n",
              "      <td>2537</td>\n",
              "      <td>39</td>\n",
              "      <td>19386</td>\n",
              "      <td>2483800</td>\n",
              "      <td>203881</td>\n",
              "      <td>2010-03-20T16:25:11Z</td>\n",
              "      <td>2483140</td>\n",
              "      <td>3</td>\n",
              "      <td>&lt;p&gt;Here is a solution which creates a \"range\" ...</td>\n",
              "    </tr>\n",
              "    <tr>\n",
              "      <th>19</th>\n",
              "      <td>2483140</td>\n",
              "      <td>116</td>\n",
              "      <td>2010-03-20T13:17:46Z</td>\n",
              "      <td>NaN</td>\n",
              "      <td>19</td>\n",
              "      <td>Oracle: how to \"group by\" over a range?</td>\n",
              "      <td>&lt;p&gt;If I have a table like this:&lt;/p&gt;\\n\\n&lt;pre&gt;&lt;c...</td>\n",
              "      <td>sql</td>\n",
              "      <td>116</td>\n",
              "      <td>Mark Harrison</td>\n",
              "      <td>2008-08-02 05:51:57.153 UTC</td>\n",
              "      <td>2019-09-01 02:39:46.78 UTC</td>\n",
              "      <td>181436</td>\n",
              "      <td>2537</td>\n",
              "      <td>39</td>\n",
              "      <td>19386</td>\n",
              "      <td>2483877</td>\n",
              "      <td>41898</td>\n",
              "      <td>2010-03-20T16:52:40Z</td>\n",
              "      <td>2483140</td>\n",
              "      <td>36</td>\n",
              "      <td>&lt;pre&gt;&lt;code&gt;SELECT CASE \\n         WHEN age &amp;lt...</td>\n",
              "    </tr>\n",
              "  </tbody>\n",
              "</table>\n",
              "</div>"
            ],
            "text/plain": [
              "       Id_x  ...                                             Body_y\n",
              "0       120  ...  <p>The Jeff Prosise version from MSDN magazine...\n",
              "1      1970  ...  <p>When I wrote my first trigger it was in Per...\n",
              "2      1970  ...  <p>I have only really used PL/pgSQL, but that ...\n",
              "3      1970  ...  <p>Skype uses <strong>PostgreSQL</strong> toge...\n",
              "4      1970  ...  <p>I write pretty much everything in plpgsql, ...\n",
              "5      1970  ...  <p>For anything really small/simple or that do...\n",
              "6      1970  ...  <p>PL/Ruby because I use Ruby every day anyway...\n",
              "7      1970  ...  <p>I use PL/pgSQL for most everything, and if ...\n",
              "8      1970  ...  <p>I use PL/Perl because:</p>\\n\\n<ul>\\n<li>I l...\n",
              "9    998950  ...  <p><code>&amp;#10;</code> is the linefeed char...\n",
              "10   998950  ...  <p>As others have stated, you probably meant <...\n",
              "11  1101390  ...  <p>Here's what I did.</p>\\n\\n<pre><code>#!/bin...\n",
              "12  1101390  ...  <p>In case anyone comes here looking for the l...\n",
              "13  1101390  ...  <p>Simple sharing SQLDeveloper config on Dropb...\n",
              "14  2169720  ...  <p>Well, I can at least provide an 11 solution...\n",
              "15  2169720  ...  <p>What you're looking for is pivoting - trans...\n",
              "16  2483140  ...  <p>Try:</p>\\n\\n<pre><code>select to_char(floor...\n",
              "17  2483140  ...  <p>add an age_range table and an age_range_id ...\n",
              "18  2483140  ...  <p>Here is a solution which creates a \"range\" ...\n",
              "19  2483140  ...  <pre><code>SELECT CASE \\n         WHEN age &lt...\n",
              "\n",
              "[20 rows x 22 columns]"
            ]
          },
          "metadata": {
            "tags": []
          },
          "execution_count": 50
        }
      ]
    },
    {
      "cell_type": "markdown",
      "metadata": {
        "id": "aWwANeYl2uu4"
      },
      "source": [
        "We change the column names for simplicity"
      ]
    },
    {
      "cell_type": "code",
      "metadata": {
        "id": "OUg-gFBM6cPj"
      },
      "source": [
        "ans_qs_ds_tags.columns=['Q_Id','Q_UId','Q_CreateDate','Q_ClosedDate','Q_Score','Q_Title','Q_Body','Tag',\n",
        "                        'UId','U_Name','U_CreateDate','U_LastDateAccess','U_Repute','U_UpVote','U_DownVote','U_Views',\n",
        "                        'A_Id','A_UId','A_CreateDate','A_Q_Id','A_Score','A_Body']"
      ],
      "execution_count": null,
      "outputs": []
    },
    {
      "cell_type": "code",
      "metadata": {
        "colab": {
          "base_uri": "https://localhost:8080/"
        },
        "id": "N2xYzocKm2R4",
        "outputId": "81dd3f0b-50d7-4ab0-8ad7-34220e8f544d"
      },
      "source": [
        "ans_qs_ds_tags.dtypes"
      ],
      "execution_count": null,
      "outputs": [
        {
          "output_type": "execute_result",
          "data": {
            "text/plain": [
              "Q_Id                object\n",
              "Q_UId                int64\n",
              "Q_CreateDate        object\n",
              "Q_ClosedDate        object\n",
              "Q_Score              int64\n",
              "Q_Title             object\n",
              "Q_Body              object\n",
              "Tag                 object\n",
              "UId                  int64\n",
              "U_Name              object\n",
              "U_CreateDate        object\n",
              "U_LastDateAccess    object\n",
              "U_Repute             int64\n",
              "U_UpVote             int64\n",
              "U_DownVote           int64\n",
              "U_Views              int64\n",
              "A_Id                object\n",
              "A_UId                int64\n",
              "A_CreateDate        object\n",
              "A_Q_Id               int64\n",
              "A_Score              int64\n",
              "A_Body              object\n",
              "dtype: object"
            ]
          },
          "metadata": {
            "tags": []
          },
          "execution_count": 52
        }
      ]
    },
    {
      "cell_type": "markdown",
      "metadata": {
        "id": "cp__lSmsmtR6"
      },
      "source": [
        "We will now check the average time taken to answer DS related questions based on above dataset."
      ]
    },
    {
      "cell_type": "code",
      "metadata": {
        "colab": {
          "base_uri": "https://localhost:8080/"
        },
        "id": "4P3jRP1IpJSq",
        "outputId": "457dbeee-f7dc-4b6c-848c-a1b13d611a05"
      },
      "source": [
        "tt_qcreate=pd.to_datetime(ans_qs_ds_tags.Q_CreateDate)\n",
        "tt_acreate=pd.to_datetime(ans_qs_ds_tags.A_CreateDate)\n",
        "tt_diff=(tt_acreate - tt_qcreate)\n",
        "np.max(tt_diff),np.min(tt_diff)"
      ],
      "execution_count": null,
      "outputs": [
        {
          "output_type": "execute_result",
          "data": {
            "text/plain": [
              "(Timedelta('2944 days 08:48:01'), Timedelta('0 days 00:00:00'))"
            ]
          },
          "metadata": {
            "tags": []
          },
          "execution_count": 53
        }
      ]
    },
    {
      "cell_type": "code",
      "metadata": {
        "colab": {
          "base_uri": "https://localhost:8080/"
        },
        "id": "hjx1f6F1y4zi",
        "outputId": "65789287-9cac-4c25-a3cd-4285faed501a"
      },
      "source": [
        "print('Average Time to Answer : %10.2f secs' % (np.average(tt_diff.dt.total_seconds())))"
      ],
      "execution_count": null,
      "outputs": [
        {
          "output_type": "stream",
          "text": [
            "Average Time to Answer : 6953492.89 secs\n"
          ],
          "name": "stdout"
        }
      ]
    },
    {
      "cell_type": "markdown",
      "metadata": {
        "id": "86d9mXFOyVF2"
      },
      "source": [
        "Tags vs Views"
      ]
    },
    {
      "cell_type": "code",
      "metadata": {
        "colab": {
          "base_uri": "https://localhost:8080/",
          "height": 322
        },
        "id": "k1qroryK57Xm",
        "outputId": "caeb03d8-c3ef-4c20-f68c-49beb634febe"
      },
      "source": [
        "ans_qs_ds_tags[['Tag','U_Views']].drop_duplicates().groupby(by='Tag').count().plot.bar()"
      ],
      "execution_count": null,
      "outputs": [
        {
          "output_type": "execute_result",
          "data": {
            "text/plain": [
              "<matplotlib.axes._subplots.AxesSubplot at 0x7f52286066d0>"
            ]
          },
          "metadata": {
            "tags": []
          },
          "execution_count": 55
        },
        {
          "output_type": "display_data",
          "data": {
            "image/png": "[encoded data removed]",
            "text/plain": [
              "<Figure size 432x288 with 1 Axes>"
            ]
          },
          "metadata": {
            "tags": [],
            "needs_background": "light"
          }
        }
      ]
    },
    {
      "cell_type": "markdown",
      "metadata": {
        "id": "CObWq0L2BfQC"
      },
      "source": [
        "So Questions with Python and SQL tags have high views"
      ]
    },
    {
      "cell_type": "markdown",
      "metadata": {
        "id": "kSKClgpVCMD7"
      },
      "source": [
        "Average Time per Tag"
      ]
    },
    {
      "cell_type": "code",
      "metadata": {
        "colab": {
          "base_uri": "https://localhost:8080/",
          "height": 406
        },
        "id": "MDI9LR3SBoff",
        "outputId": "80c6d553-3ece-434c-945c-61e4efd75908"
      },
      "source": [
        "tt_tag=ans_qs_ds_tags[['Tag','Q_CreateDate','A_CreateDate']].drop_duplicates()\n",
        "tt_qtag = pd.to_datetime(tt_tag.Q_CreateDate)\n",
        "tt_atag = pd.to_datetime(tt_tag.A_CreateDate)\n",
        "tt_tag['Diff']=tt_atag-tt_qtag\n",
        "tt_tag"
      ],
      "execution_count": null,
      "outputs": [
        {
          "output_type": "execute_result",
          "data": {
            "text/html": [
              "<div>\n",
              "<style scoped>\n",
              "    .dataframe tbody tr th:only-of-type {\n",
              "        vertical-align: middle;\n",
              "    }\n",
              "\n",
              "    .dataframe tbody tr th {\n",
              "        vertical-align: top;\n",
              "    }\n",
              "\n",
              "    .dataframe thead th {\n",
              "        text-align: right;\n",
              "    }\n",
              "</style>\n",
              "<table border=\"1\" class=\"dataframe\">\n",
              "  <thead>\n",
              "    <tr style=\"text-align: right;\">\n",
              "      <th></th>\n",
              "      <th>Tag</th>\n",
              "      <th>Q_CreateDate</th>\n",
              "      <th>A_CreateDate</th>\n",
              "      <th>Diff</th>\n",
              "    </tr>\n",
              "  </thead>\n",
              "  <tbody>\n",
              "    <tr>\n",
              "      <th>0</th>\n",
              "      <td>sql</td>\n",
              "      <td>2008-08-01T15:50:08Z</td>\n",
              "      <td>2008-09-23T22:41:11Z</td>\n",
              "      <td>53 days 06:51:03</td>\n",
              "    </tr>\n",
              "    <tr>\n",
              "      <th>1</th>\n",
              "      <td>sql</td>\n",
              "      <td>2008-08-05T06:39:31Z</td>\n",
              "      <td>2008-08-05T06:43:30Z</td>\n",
              "      <td>0 days 00:03:59</td>\n",
              "    </tr>\n",
              "    <tr>\n",
              "      <th>2</th>\n",
              "      <td>sql</td>\n",
              "      <td>2008-08-05T06:39:31Z</td>\n",
              "      <td>2008-08-06T14:26:08Z</td>\n",
              "      <td>1 days 07:46:37</td>\n",
              "    </tr>\n",
              "    <tr>\n",
              "      <th>3</th>\n",
              "      <td>sql</td>\n",
              "      <td>2008-08-05T06:39:31Z</td>\n",
              "      <td>2008-09-12T15:39:39Z</td>\n",
              "      <td>38 days 09:00:08</td>\n",
              "    </tr>\n",
              "    <tr>\n",
              "      <th>4</th>\n",
              "      <td>sql</td>\n",
              "      <td>2008-08-05T06:39:31Z</td>\n",
              "      <td>2008-09-16T05:43:22Z</td>\n",
              "      <td>41 days 23:03:51</td>\n",
              "    </tr>\n",
              "    <tr>\n",
              "      <th>...</th>\n",
              "      <td>...</td>\n",
              "      <td>...</td>\n",
              "      <td>...</td>\n",
              "      <td>...</td>\n",
              "    </tr>\n",
              "    <tr>\n",
              "      <th>96864</th>\n",
              "      <td>python</td>\n",
              "      <td>2016-10-19T18:40:13Z</td>\n",
              "      <td>2016-10-19T18:43:14Z</td>\n",
              "      <td>0 days 00:03:01</td>\n",
              "    </tr>\n",
              "    <tr>\n",
              "      <th>96865</th>\n",
              "      <td>python</td>\n",
              "      <td>2016-10-19T18:40:13Z</td>\n",
              "      <td>2016-10-19T18:58:03Z</td>\n",
              "      <td>0 days 00:17:50</td>\n",
              "    </tr>\n",
              "    <tr>\n",
              "      <th>96866</th>\n",
              "      <td>python</td>\n",
              "      <td>2016-10-19T20:48:21Z</td>\n",
              "      <td>2016-10-19T20:48:21Z</td>\n",
              "      <td>0 days 00:00:00</td>\n",
              "    </tr>\n",
              "    <tr>\n",
              "      <th>96867</th>\n",
              "      <td>python</td>\n",
              "      <td>2016-10-19T23:36:01Z</td>\n",
              "      <td>2016-10-19T23:38:17Z</td>\n",
              "      <td>0 days 00:02:16</td>\n",
              "    </tr>\n",
              "    <tr>\n",
              "      <th>96868</th>\n",
              "      <td>python</td>\n",
              "      <td>2016-10-19T23:36:01Z</td>\n",
              "      <td>2016-10-19T23:42:35Z</td>\n",
              "      <td>0 days 00:06:34</td>\n",
              "    </tr>\n",
              "  </tbody>\n",
              "</table>\n",
              "<p>96821 rows × 4 columns</p>\n",
              "</div>"
            ],
            "text/plain": [
              "          Tag          Q_CreateDate          A_CreateDate             Diff\n",
              "0         sql  2008-08-01T15:50:08Z  2008-09-23T22:41:11Z 53 days 06:51:03\n",
              "1         sql  2008-08-05T06:39:31Z  2008-08-05T06:43:30Z  0 days 00:03:59\n",
              "2         sql  2008-08-05T06:39:31Z  2008-08-06T14:26:08Z  1 days 07:46:37\n",
              "3         sql  2008-08-05T06:39:31Z  2008-09-12T15:39:39Z 38 days 09:00:08\n",
              "4         sql  2008-08-05T06:39:31Z  2008-09-16T05:43:22Z 41 days 23:03:51\n",
              "...       ...                   ...                   ...              ...\n",
              "96864  python  2016-10-19T18:40:13Z  2016-10-19T18:43:14Z  0 days 00:03:01\n",
              "96865  python  2016-10-19T18:40:13Z  2016-10-19T18:58:03Z  0 days 00:17:50\n",
              "96866  python  2016-10-19T20:48:21Z  2016-10-19T20:48:21Z  0 days 00:00:00\n",
              "96867  python  2016-10-19T23:36:01Z  2016-10-19T23:38:17Z  0 days 00:02:16\n",
              "96868  python  2016-10-19T23:36:01Z  2016-10-19T23:42:35Z  0 days 00:06:34\n",
              "\n",
              "[96821 rows x 4 columns]"
            ]
          },
          "metadata": {
            "tags": []
          },
          "execution_count": 56
        }
      ]
    },
    {
      "cell_type": "code",
      "metadata": {
        "colab": {
          "base_uri": "https://localhost:8080/"
        },
        "id": "FZeIGlI8FTkl",
        "outputId": "4dcca4fb-d721-47a9-87ca-a3b9b5effc93"
      },
      "source": [
        "for i in tt_tag.Tag.unique():\n",
        "  print('Average Time to Answer for Tag %s : %10.2f secs' % (i,np.average(tt_tag[tt_tag.Tag==i]['Diff'].dt.total_seconds())))"
      ],
      "execution_count": null,
      "outputs": [
        {
          "output_type": "stream",
          "text": [
            "Average Time to Answer for Tag sql : 5389257.64 secs\n",
            "Average Time to Answer for Tag python : 8389772.77 secs\n",
            "Average Time to Answer for Tag excel : 7133932.32 secs\n",
            "Average Time to Answer for Tag r : 5352426.12 secs\n",
            "Average Time to Answer for Tag matlab : 4908133.77 secs\n",
            "Average Time to Answer for Tag sas : 4903177.87 secs\n"
          ],
          "name": "stdout"
        }
      ]
    }
  ]
}